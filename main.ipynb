{
 "cells": [
  {
   "cell_type": "code",
   "execution_count": 1,
   "outputs": [
    {
     "name": "stdout",
     "output_type": "stream",
     "text": [
      "Requirement already satisfied: surprise in c:\\users\\emrea\\anaconda3\\lib\\site-packages (0.1)\n",
      "Requirement already satisfied: scikit-surprise in c:\\users\\emrea\\anaconda3\\lib\\site-packages (from surprise) (1.1.4)\n",
      "Requirement already satisfied: joblib>=1.2.0 in c:\\users\\emrea\\anaconda3\\lib\\site-packages (from scikit-surprise->surprise) (1.4.2)\n",
      "Requirement already satisfied: numpy>=1.19.5 in c:\\users\\emrea\\anaconda3\\lib\\site-packages (from scikit-surprise->surprise) (1.21.5)\n",
      "Requirement already satisfied: scipy>=1.6.0 in c:\\users\\emrea\\anaconda3\\lib\\site-packages (from scikit-surprise->surprise) (1.10.1)\n"
     ]
    }
   ],
   "source": [
    "!pip install surprise"
   ],
   "metadata": {
    "collapsed": false
   }
  },
  {
   "cell_type": "code",
   "execution_count": 2,
   "outputs": [],
   "source": [
    "import pandas as pd\n",
    "import numpy as np\n",
    "import matplotlib.pyplot as plt\n",
    "import seaborn as sns\n",
    "from scipy import stats\n",
    "from ast import literal_eval\n",
    "from sklearn.feature_extraction.text import TfidfVectorizer, CountVectorizer\n",
    "from sklearn.metrics.pairwise import linear_kernel, cosine_similarity\n",
    "from nltk.stem.snowball import SnowballStemmer\n",
    "from nltk.stem.wordnet import WordNetLemmatizer\n",
    "from nltk.corpus import wordnet\n",
    "from surprise import Reader, Dataset, SVD\n",
    "from surprise.model_selection import cross_validate\n",
    "\n",
    "import warnings;\n",
    "\n",
    "warnings.simplefilter(\"ignore\")"
   ],
   "metadata": {
    "collapsed": false
   }
  },
  {
   "cell_type": "markdown",
   "source": [
    "# Simple Recommender\n",
    "\n",
    "A popularity-based recommender provides generic suggestions to all users by prioritizing movies with high ratings and popularity (often incorporating genre). The underlying assumption is that widely acclaimed and popular films have a broader appeal. This approach does not tailor recommendations to individual preferences.\n",
    "\n",
    "Implementation is straightforward: movies are ranked by rating and viewership, and the top-rated or most popular titles (potentially filtered by genre) are presented as recommendations."
   ],
   "metadata": {
    "collapsed": false
   }
  },
  {
   "cell_type": "code",
   "execution_count": 3,
   "outputs": [
    {
     "data": {
      "text/plain": "       adult                              belongs_to_collection    budget  \\\n0      False  {'id': 10194, 'name': 'Toy Story Collection', ...  30000000   \n1      False                                                NaN  65000000   \n2      False  {'id': 119050, 'name': 'Grumpy Old Men Collect...         0   \n3      False                                                NaN  16000000   \n4      False  {'id': 96871, 'name': 'Father of the Bride Col...         0   \n...      ...                                                ...       ...   \n45461  False                                                NaN         0   \n45462  False                                                NaN         0   \n45463  False                                                NaN         0   \n45464  False                                                NaN         0   \n45465  False                                                NaN         0   \n\n                                                  genres  \\\n0      [{'id': 16, 'name': 'Animation'}, {'id': 35, '...   \n1      [{'id': 12, 'name': 'Adventure'}, {'id': 14, '...   \n2      [{'id': 10749, 'name': 'Romance'}, {'id': 35, ...   \n3      [{'id': 35, 'name': 'Comedy'}, {'id': 18, 'nam...   \n4                         [{'id': 35, 'name': 'Comedy'}]   \n...                                                  ...   \n45461  [{'id': 18, 'name': 'Drama'}, {'id': 10751, 'n...   \n45462                      [{'id': 18, 'name': 'Drama'}]   \n45463  [{'id': 28, 'name': 'Action'}, {'id': 18, 'nam...   \n45464                                                 []   \n45465                                                 []   \n\n                                   homepage      id    imdb_id  \\\n0      http://toystory.disney.com/toy-story     862  tt0114709   \n1                                       NaN    8844  tt0113497   \n2                                       NaN   15602  tt0113228   \n3                                       NaN   31357  tt0114885   \n4                                       NaN   11862  tt0113041   \n...                                     ...     ...        ...   \n45461  http://www.imdb.com/title/tt6209470/  439050  tt6209470   \n45462                                   NaN  111109  tt2028550   \n45463                                   NaN   67758  tt0303758   \n45464                                   NaN  227506  tt0008536   \n45465                                   NaN  461257  tt6980792   \n\n      original_language               original_title  \\\n0                    en                    Toy Story   \n1                    en                      Jumanji   \n2                    en             Grumpier Old Men   \n3                    en            Waiting to Exhale   \n4                    en  Father of the Bride Part II   \n...                 ...                          ...   \n45461                fa                      رگ خواب   \n45462                tl          Siglo ng Pagluluwal   \n45463                en                     Betrayal   \n45464                en          Satana likuyushchiy   \n45465                en                     Queerama   \n\n                                                overview  ... release_date  \\\n0      Led by Woody, Andy's toys live happily in his ...  ...   1995-10-30   \n1      When siblings Judy and Peter discover an encha...  ...   1995-12-15   \n2      A family wedding reignites the ancient feud be...  ...   1995-12-22   \n3      Cheated on, mistreated and stepped on, the wom...  ...   1995-12-22   \n4      Just when George Banks has recovered from his ...  ...   1995-02-10   \n...                                                  ...  ...          ...   \n45461        Rising and falling between a man and woman.  ...          NaN   \n45462  An artist struggles to finish his work while a...  ...   2011-11-17   \n45463  When one of her hits goes wrong, a professiona...  ...   2003-08-01   \n45464  In a small town live two brothers, one a minis...  ...   1917-10-21   \n45465  50 years after decriminalisation of homosexual...  ...   2017-06-09   \n\n           revenue runtime                                   spoken_languages  \\\n0      373554033.0    81.0           [{'iso_639_1': 'en', 'name': 'English'}]   \n1      262797249.0   104.0  [{'iso_639_1': 'en', 'name': 'English'}, {'iso...   \n2              0.0   101.0           [{'iso_639_1': 'en', 'name': 'English'}]   \n3       81452156.0   127.0           [{'iso_639_1': 'en', 'name': 'English'}]   \n4       76578911.0   106.0           [{'iso_639_1': 'en', 'name': 'English'}]   \n...            ...     ...                                                ...   \n45461          0.0    90.0             [{'iso_639_1': 'fa', 'name': 'فارسی'}]   \n45462          0.0   360.0                  [{'iso_639_1': 'tl', 'name': ''}]   \n45463          0.0    90.0           [{'iso_639_1': 'en', 'name': 'English'}]   \n45464          0.0    87.0                                                 []   \n45465          0.0    75.0           [{'iso_639_1': 'en', 'name': 'English'}]   \n\n         status                                            tagline  \\\n0      Released                                                NaN   \n1      Released          Roll the dice and unleash the excitement!   \n2      Released  Still Yelling. Still Fighting. Still Ready for...   \n3      Released  Friends are the people who let you be yourself...   \n4      Released  Just When His World Is Back To Normal... He's ...   \n...         ...                                                ...   \n45461  Released         Rising and falling between a man and woman   \n45462  Released                                                NaN   \n45463  Released                             A deadly game of wits.   \n45464  Released                                                NaN   \n45465  Released                                                NaN   \n\n                             title  video vote_average vote_count  \n0                        Toy Story  False          7.7     5415.0  \n1                          Jumanji  False          6.9     2413.0  \n2                 Grumpier Old Men  False          6.5       92.0  \n3                Waiting to Exhale  False          6.1       34.0  \n4      Father of the Bride Part II  False          5.7      173.0  \n...                            ...    ...          ...        ...  \n45461                       Subdue  False          4.0        1.0  \n45462          Century of Birthing  False          9.0        3.0  \n45463                     Betrayal  False          3.8        6.0  \n45464             Satan Triumphant  False          0.0        0.0  \n45465                     Queerama  False          0.0        0.0  \n\n[45466 rows x 24 columns]",
      "text/html": "<div>\n<style scoped>\n    .dataframe tbody tr th:only-of-type {\n        vertical-align: middle;\n    }\n\n    .dataframe tbody tr th {\n        vertical-align: top;\n    }\n\n    .dataframe thead th {\n        text-align: right;\n    }\n</style>\n<table border=\"1\" class=\"dataframe\">\n  <thead>\n    <tr style=\"text-align: right;\">\n      <th></th>\n      <th>adult</th>\n      <th>belongs_to_collection</th>\n      <th>budget</th>\n      <th>genres</th>\n      <th>homepage</th>\n      <th>id</th>\n      <th>imdb_id</th>\n      <th>original_language</th>\n      <th>original_title</th>\n      <th>overview</th>\n      <th>...</th>\n      <th>release_date</th>\n      <th>revenue</th>\n      <th>runtime</th>\n      <th>spoken_languages</th>\n      <th>status</th>\n      <th>tagline</th>\n      <th>title</th>\n      <th>video</th>\n      <th>vote_average</th>\n      <th>vote_count</th>\n    </tr>\n  </thead>\n  <tbody>\n    <tr>\n      <th>0</th>\n      <td>False</td>\n      <td>{'id': 10194, 'name': 'Toy Story Collection', ...</td>\n      <td>30000000</td>\n      <td>[{'id': 16, 'name': 'Animation'}, {'id': 35, '...</td>\n      <td>http://toystory.disney.com/toy-story</td>\n      <td>862</td>\n      <td>tt0114709</td>\n      <td>en</td>\n      <td>Toy Story</td>\n      <td>Led by Woody, Andy's toys live happily in his ...</td>\n      <td>...</td>\n      <td>1995-10-30</td>\n      <td>373554033.0</td>\n      <td>81.0</td>\n      <td>[{'iso_639_1': 'en', 'name': 'English'}]</td>\n      <td>Released</td>\n      <td>NaN</td>\n      <td>Toy Story</td>\n      <td>False</td>\n      <td>7.7</td>\n      <td>5415.0</td>\n    </tr>\n    <tr>\n      <th>1</th>\n      <td>False</td>\n      <td>NaN</td>\n      <td>65000000</td>\n      <td>[{'id': 12, 'name': 'Adventure'}, {'id': 14, '...</td>\n      <td>NaN</td>\n      <td>8844</td>\n      <td>tt0113497</td>\n      <td>en</td>\n      <td>Jumanji</td>\n      <td>When siblings Judy and Peter discover an encha...</td>\n      <td>...</td>\n      <td>1995-12-15</td>\n      <td>262797249.0</td>\n      <td>104.0</td>\n      <td>[{'iso_639_1': 'en', 'name': 'English'}, {'iso...</td>\n      <td>Released</td>\n      <td>Roll the dice and unleash the excitement!</td>\n      <td>Jumanji</td>\n      <td>False</td>\n      <td>6.9</td>\n      <td>2413.0</td>\n    </tr>\n    <tr>\n      <th>2</th>\n      <td>False</td>\n      <td>{'id': 119050, 'name': 'Grumpy Old Men Collect...</td>\n      <td>0</td>\n      <td>[{'id': 10749, 'name': 'Romance'}, {'id': 35, ...</td>\n      <td>NaN</td>\n      <td>15602</td>\n      <td>tt0113228</td>\n      <td>en</td>\n      <td>Grumpier Old Men</td>\n      <td>A family wedding reignites the ancient feud be...</td>\n      <td>...</td>\n      <td>1995-12-22</td>\n      <td>0.0</td>\n      <td>101.0</td>\n      <td>[{'iso_639_1': 'en', 'name': 'English'}]</td>\n      <td>Released</td>\n      <td>Still Yelling. Still Fighting. Still Ready for...</td>\n      <td>Grumpier Old Men</td>\n      <td>False</td>\n      <td>6.5</td>\n      <td>92.0</td>\n    </tr>\n    <tr>\n      <th>3</th>\n      <td>False</td>\n      <td>NaN</td>\n      <td>16000000</td>\n      <td>[{'id': 35, 'name': 'Comedy'}, {'id': 18, 'nam...</td>\n      <td>NaN</td>\n      <td>31357</td>\n      <td>tt0114885</td>\n      <td>en</td>\n      <td>Waiting to Exhale</td>\n      <td>Cheated on, mistreated and stepped on, the wom...</td>\n      <td>...</td>\n      <td>1995-12-22</td>\n      <td>81452156.0</td>\n      <td>127.0</td>\n      <td>[{'iso_639_1': 'en', 'name': 'English'}]</td>\n      <td>Released</td>\n      <td>Friends are the people who let you be yourself...</td>\n      <td>Waiting to Exhale</td>\n      <td>False</td>\n      <td>6.1</td>\n      <td>34.0</td>\n    </tr>\n    <tr>\n      <th>4</th>\n      <td>False</td>\n      <td>{'id': 96871, 'name': 'Father of the Bride Col...</td>\n      <td>0</td>\n      <td>[{'id': 35, 'name': 'Comedy'}]</td>\n      <td>NaN</td>\n      <td>11862</td>\n      <td>tt0113041</td>\n      <td>en</td>\n      <td>Father of the Bride Part II</td>\n      <td>Just when George Banks has recovered from his ...</td>\n      <td>...</td>\n      <td>1995-02-10</td>\n      <td>76578911.0</td>\n      <td>106.0</td>\n      <td>[{'iso_639_1': 'en', 'name': 'English'}]</td>\n      <td>Released</td>\n      <td>Just When His World Is Back To Normal... He's ...</td>\n      <td>Father of the Bride Part II</td>\n      <td>False</td>\n      <td>5.7</td>\n      <td>173.0</td>\n    </tr>\n    <tr>\n      <th>...</th>\n      <td>...</td>\n      <td>...</td>\n      <td>...</td>\n      <td>...</td>\n      <td>...</td>\n      <td>...</td>\n      <td>...</td>\n      <td>...</td>\n      <td>...</td>\n      <td>...</td>\n      <td>...</td>\n      <td>...</td>\n      <td>...</td>\n      <td>...</td>\n      <td>...</td>\n      <td>...</td>\n      <td>...</td>\n      <td>...</td>\n      <td>...</td>\n      <td>...</td>\n      <td>...</td>\n    </tr>\n    <tr>\n      <th>45461</th>\n      <td>False</td>\n      <td>NaN</td>\n      <td>0</td>\n      <td>[{'id': 18, 'name': 'Drama'}, {'id': 10751, 'n...</td>\n      <td>http://www.imdb.com/title/tt6209470/</td>\n      <td>439050</td>\n      <td>tt6209470</td>\n      <td>fa</td>\n      <td>رگ خواب</td>\n      <td>Rising and falling between a man and woman.</td>\n      <td>...</td>\n      <td>NaN</td>\n      <td>0.0</td>\n      <td>90.0</td>\n      <td>[{'iso_639_1': 'fa', 'name': 'فارسی'}]</td>\n      <td>Released</td>\n      <td>Rising and falling between a man and woman</td>\n      <td>Subdue</td>\n      <td>False</td>\n      <td>4.0</td>\n      <td>1.0</td>\n    </tr>\n    <tr>\n      <th>45462</th>\n      <td>False</td>\n      <td>NaN</td>\n      <td>0</td>\n      <td>[{'id': 18, 'name': 'Drama'}]</td>\n      <td>NaN</td>\n      <td>111109</td>\n      <td>tt2028550</td>\n      <td>tl</td>\n      <td>Siglo ng Pagluluwal</td>\n      <td>An artist struggles to finish his work while a...</td>\n      <td>...</td>\n      <td>2011-11-17</td>\n      <td>0.0</td>\n      <td>360.0</td>\n      <td>[{'iso_639_1': 'tl', 'name': ''}]</td>\n      <td>Released</td>\n      <td>NaN</td>\n      <td>Century of Birthing</td>\n      <td>False</td>\n      <td>9.0</td>\n      <td>3.0</td>\n    </tr>\n    <tr>\n      <th>45463</th>\n      <td>False</td>\n      <td>NaN</td>\n      <td>0</td>\n      <td>[{'id': 28, 'name': 'Action'}, {'id': 18, 'nam...</td>\n      <td>NaN</td>\n      <td>67758</td>\n      <td>tt0303758</td>\n      <td>en</td>\n      <td>Betrayal</td>\n      <td>When one of her hits goes wrong, a professiona...</td>\n      <td>...</td>\n      <td>2003-08-01</td>\n      <td>0.0</td>\n      <td>90.0</td>\n      <td>[{'iso_639_1': 'en', 'name': 'English'}]</td>\n      <td>Released</td>\n      <td>A deadly game of wits.</td>\n      <td>Betrayal</td>\n      <td>False</td>\n      <td>3.8</td>\n      <td>6.0</td>\n    </tr>\n    <tr>\n      <th>45464</th>\n      <td>False</td>\n      <td>NaN</td>\n      <td>0</td>\n      <td>[]</td>\n      <td>NaN</td>\n      <td>227506</td>\n      <td>tt0008536</td>\n      <td>en</td>\n      <td>Satana likuyushchiy</td>\n      <td>In a small town live two brothers, one a minis...</td>\n      <td>...</td>\n      <td>1917-10-21</td>\n      <td>0.0</td>\n      <td>87.0</td>\n      <td>[]</td>\n      <td>Released</td>\n      <td>NaN</td>\n      <td>Satan Triumphant</td>\n      <td>False</td>\n      <td>0.0</td>\n      <td>0.0</td>\n    </tr>\n    <tr>\n      <th>45465</th>\n      <td>False</td>\n      <td>NaN</td>\n      <td>0</td>\n      <td>[]</td>\n      <td>NaN</td>\n      <td>461257</td>\n      <td>tt6980792</td>\n      <td>en</td>\n      <td>Queerama</td>\n      <td>50 years after decriminalisation of homosexual...</td>\n      <td>...</td>\n      <td>2017-06-09</td>\n      <td>0.0</td>\n      <td>75.0</td>\n      <td>[{'iso_639_1': 'en', 'name': 'English'}]</td>\n      <td>Released</td>\n      <td>NaN</td>\n      <td>Queerama</td>\n      <td>False</td>\n      <td>0.0</td>\n      <td>0.0</td>\n    </tr>\n  </tbody>\n</table>\n<p>45466 rows × 24 columns</p>\n</div>"
     },
     "execution_count": 3,
     "metadata": {},
     "output_type": "execute_result"
    }
   ],
   "source": [
    "md = pd.read_csv(\"data/movies_metadata.csv\")\n",
    "md"
   ],
   "metadata": {
    "collapsed": false
   }
  },
  {
   "cell_type": "code",
   "execution_count": 4,
   "outputs": [
    {
     "data": {
      "text/plain": "adult                        0\nbelongs_to_collection    40972\nbudget                       0\ngenres                       0\nhomepage                 37684\nid                           0\nimdb_id                     17\noriginal_language           11\noriginal_title               0\noverview                   954\npopularity                   5\nposter_path                386\nproduction_companies         3\nproduction_countries         3\nrelease_date                87\nrevenue                      6\nruntime                    263\nspoken_languages             6\nstatus                      87\ntagline                  25054\ntitle                        6\nvideo                        6\nvote_average                 6\nvote_count                   6\ndtype: int64"
     },
     "execution_count": 4,
     "metadata": {},
     "output_type": "execute_result"
    }
   ],
   "source": [
    "md.isna().sum()"
   ],
   "metadata": {
    "collapsed": false
   }
  },
  {
   "cell_type": "markdown",
   "source": [
    "Adjusting \"genres\" column;\n",
    "\n",
    "[{'id': 16, 'name': 'Animation'}, {'id': 35, 'name': 'Comedy'}, {'id': 10751, 'name': 'Family'}] --> [\"Animation\", \"Comedy\", \"Family\"]"
   ],
   "metadata": {
    "collapsed": false
   }
  },
  {
   "cell_type": "code",
   "execution_count": 5,
   "outputs": [],
   "source": [
    "md['genres'] = md['genres'].apply(literal_eval).apply(lambda x: [i['name'] for i in x] if isinstance(x, list) else [])"
   ],
   "metadata": {
    "collapsed": false
   }
  },
  {
   "cell_type": "markdown",
   "source": [
    "# Weighted Rating (WR)\n",
    "\n",
    "I use the TMDB Ratings to come up with our Top Movies Chart. I will use IMDB's weighted rating formula to construct my chart. Mathematically, it is represented as follows:\n",
    "\n",
    "Weighted Rating (WR) =  ${\\displaystyle(vv+m.R)+(mv+m.C)}$\n",
    "\n",
    "where,\n",
    "\n",
    "* v is the number of votes for the movie\n",
    "* m is the minimum votes required to be listed in the chart\n",
    "* R is the average rating of the movie\n",
    "* C is the mean vote across the whole report\n",
    "\n",
    "The next step is to determine an appropriate value for m, the minimum votes required to be listed in the chart. We will use 95th percentile as our cutoff. In other words, for a movie to feature in the charts, it must have more votes than at least 95% of the movies in the list."
   ],
   "metadata": {
    "collapsed": false
   }
  },
  {
   "cell_type": "code",
   "execution_count": 6,
   "outputs": [
    {
     "data": {
      "text/plain": "5.244896612406511"
     },
     "execution_count": 6,
     "metadata": {},
     "output_type": "execute_result"
    }
   ],
   "source": [
    "vote_counts = md[md[\"vote_count\"].notnull()]['vote_count'].astype(\"int\")\n",
    "vote_averages = md[md[\"vote_average\"].notnull()][\"vote_average\"].astype(\"int\")\n",
    "C = vote_averages.mean()\n",
    "C"
   ],
   "metadata": {
    "collapsed": false
   }
  },
  {
   "cell_type": "code",
   "execution_count": 7,
   "outputs": [
    {
     "data": {
      "text/plain": "434.0"
     },
     "execution_count": 7,
     "metadata": {},
     "output_type": "execute_result"
    }
   ],
   "source": [
    "m = vote_counts.quantile(0.95)\n",
    "m"
   ],
   "metadata": {
    "collapsed": false
   }
  },
  {
   "cell_type": "code",
   "execution_count": 8,
   "outputs": [],
   "source": [
    "md['year'] = pd.to_datetime(md['release_date'], errors='coerce').apply(\n",
    "    lambda x: str(x).split('-')[0] if x != np.nan else np.nan)"
   ],
   "metadata": {
    "collapsed": false
   }
  },
  {
   "cell_type": "code",
   "execution_count": 9,
   "outputs": [
    {
     "data": {
      "text/plain": "(2274, 6)"
     },
     "execution_count": 9,
     "metadata": {},
     "output_type": "execute_result"
    }
   ],
   "source": [
    "qualified = md[(md[\"vote_count\"] >= m) & (md[\"vote_count\"].notnull()) & (md[\"vote_average\"].notnull())][\n",
    "    [\"title\", \"year\", \"vote_count\", \"vote_average\", \"popularity\", \"genres\"]]\n",
    "qualified['vote_count'] = qualified['vote_count'].astype('int')\n",
    "qualified['vote_average'] = qualified['vote_average'].astype('int')\n",
    "qualified.shape"
   ],
   "metadata": {
    "collapsed": false
   }
  },
  {
   "cell_type": "code",
   "execution_count": 10,
   "outputs": [],
   "source": [
    "def weighted_rating(x):\n",
    "    v = x[\"vote_count\"]\n",
    "    R = x[\"vote_average\"]\n",
    "    return (v / (v + m) * R) + (m / (m + v) * C)"
   ],
   "metadata": {
    "collapsed": false
   }
  },
  {
   "cell_type": "code",
   "execution_count": 11,
   "outputs": [],
   "source": [
    "qualified[\"wr\"] = qualified.apply(weighted_rating, axis=1)"
   ],
   "metadata": {
    "collapsed": false
   }
  },
  {
   "cell_type": "code",
   "execution_count": 12,
   "outputs": [],
   "source": [
    "qualified = qualified.sort_values(\"wr\", ascending=False)"
   ],
   "metadata": {
    "collapsed": false
   }
  },
  {
   "cell_type": "code",
   "execution_count": 13,
   "outputs": [
    {
     "data": {
      "text/plain": "                                                   title  year  vote_count  \\\n15480                                          Inception  2010       14075   \n12481                                    The Dark Knight  2008       12269   \n22879                                       Interstellar  2014       11187   \n2843                                          Fight Club  1999        9678   \n4863   The Lord of the Rings: The Fellowship of the Ring  2001        8892   \n...                                                  ...   ...         ...   \n1491                                      Batman & Robin  1997        1447   \n26563                                     Fantastic Four  2015        2322   \n30556                       Independence Day: Resurgence  2016        2550   \n21238                                          Sharknado  2013         484   \n13566                               Dragonball Evolution  2009         475   \n\n       vote_average  popularity  \\\n15480             8   29.108149   \n12481             8  123.167259   \n22879             8   32.213481   \n2843              8   63.869599   \n4863              8   32.070725   \n...             ...         ...   \n1491              4   17.038824   \n26563             4   17.246484   \n30556             4   16.993841   \n21238             3    4.928195   \n13566             2    8.876305   \n\n                                                  genres        wr  \n15480  [Action, Thriller, Science Fiction, Mystery, A...  7.917588  \n12481                   [Drama, Action, Crime, Thriller]  7.905871  \n22879                [Adventure, Drama, Science Fiction]  7.897107  \n2843                                             [Drama]  7.881753  \n4863                        [Adventure, Fantasy, Action]  7.871787  \n...                                                  ...       ...  \n1491                            [Action, Crime, Fantasy]  4.287233  \n26563               [Action, Adventure, Science Fiction]  4.196040  \n30556               [Action, Adventure, Science Fiction]  4.181061  \n21238                                 [TV Movie, Horror]  4.061313  \n13566  [Action, Adventure, Fantasy, Science Fiction, ...  3.549269  \n\n[2274 rows x 7 columns]",
      "text/html": "<div>\n<style scoped>\n    .dataframe tbody tr th:only-of-type {\n        vertical-align: middle;\n    }\n\n    .dataframe tbody tr th {\n        vertical-align: top;\n    }\n\n    .dataframe thead th {\n        text-align: right;\n    }\n</style>\n<table border=\"1\" class=\"dataframe\">\n  <thead>\n    <tr style=\"text-align: right;\">\n      <th></th>\n      <th>title</th>\n      <th>year</th>\n      <th>vote_count</th>\n      <th>vote_average</th>\n      <th>popularity</th>\n      <th>genres</th>\n      <th>wr</th>\n    </tr>\n  </thead>\n  <tbody>\n    <tr>\n      <th>15480</th>\n      <td>Inception</td>\n      <td>2010</td>\n      <td>14075</td>\n      <td>8</td>\n      <td>29.108149</td>\n      <td>[Action, Thriller, Science Fiction, Mystery, A...</td>\n      <td>7.917588</td>\n    </tr>\n    <tr>\n      <th>12481</th>\n      <td>The Dark Knight</td>\n      <td>2008</td>\n      <td>12269</td>\n      <td>8</td>\n      <td>123.167259</td>\n      <td>[Drama, Action, Crime, Thriller]</td>\n      <td>7.905871</td>\n    </tr>\n    <tr>\n      <th>22879</th>\n      <td>Interstellar</td>\n      <td>2014</td>\n      <td>11187</td>\n      <td>8</td>\n      <td>32.213481</td>\n      <td>[Adventure, Drama, Science Fiction]</td>\n      <td>7.897107</td>\n    </tr>\n    <tr>\n      <th>2843</th>\n      <td>Fight Club</td>\n      <td>1999</td>\n      <td>9678</td>\n      <td>8</td>\n      <td>63.869599</td>\n      <td>[Drama]</td>\n      <td>7.881753</td>\n    </tr>\n    <tr>\n      <th>4863</th>\n      <td>The Lord of the Rings: The Fellowship of the Ring</td>\n      <td>2001</td>\n      <td>8892</td>\n      <td>8</td>\n      <td>32.070725</td>\n      <td>[Adventure, Fantasy, Action]</td>\n      <td>7.871787</td>\n    </tr>\n    <tr>\n      <th>...</th>\n      <td>...</td>\n      <td>...</td>\n      <td>...</td>\n      <td>...</td>\n      <td>...</td>\n      <td>...</td>\n      <td>...</td>\n    </tr>\n    <tr>\n      <th>1491</th>\n      <td>Batman &amp; Robin</td>\n      <td>1997</td>\n      <td>1447</td>\n      <td>4</td>\n      <td>17.038824</td>\n      <td>[Action, Crime, Fantasy]</td>\n      <td>4.287233</td>\n    </tr>\n    <tr>\n      <th>26563</th>\n      <td>Fantastic Four</td>\n      <td>2015</td>\n      <td>2322</td>\n      <td>4</td>\n      <td>17.246484</td>\n      <td>[Action, Adventure, Science Fiction]</td>\n      <td>4.196040</td>\n    </tr>\n    <tr>\n      <th>30556</th>\n      <td>Independence Day: Resurgence</td>\n      <td>2016</td>\n      <td>2550</td>\n      <td>4</td>\n      <td>16.993841</td>\n      <td>[Action, Adventure, Science Fiction]</td>\n      <td>4.181061</td>\n    </tr>\n    <tr>\n      <th>21238</th>\n      <td>Sharknado</td>\n      <td>2013</td>\n      <td>484</td>\n      <td>3</td>\n      <td>4.928195</td>\n      <td>[TV Movie, Horror]</td>\n      <td>4.061313</td>\n    </tr>\n    <tr>\n      <th>13566</th>\n      <td>Dragonball Evolution</td>\n      <td>2009</td>\n      <td>475</td>\n      <td>2</td>\n      <td>8.876305</td>\n      <td>[Action, Adventure, Fantasy, Science Fiction, ...</td>\n      <td>3.549269</td>\n    </tr>\n  </tbody>\n</table>\n<p>2274 rows × 7 columns</p>\n</div>"
     },
     "execution_count": 13,
     "metadata": {},
     "output_type": "execute_result"
    }
   ],
   "source": [
    "qualified"
   ],
   "metadata": {
    "collapsed": false
   }
  },
  {
   "cell_type": "markdown",
   "source": [
    "Let us now construct our function that builds charts for particular genres. For this, we will use relax our default conditions to the 85th percentile instead of 95."
   ],
   "metadata": {
    "collapsed": false
   }
  },
  {
   "cell_type": "code",
   "execution_count": 14,
   "outputs": [
    {
     "data": {
      "text/plain": "0        Animation\n0           Comedy\n0           Family\n1        Adventure\n1          Fantasy\n           ...    \n45461       Family\n45462        Drama\n45463       Action\n45463        Drama\n45463     Thriller\nName: genre, Length: 91106, dtype: object"
     },
     "execution_count": 14,
     "metadata": {},
     "output_type": "execute_result"
    }
   ],
   "source": [
    "s = md.apply(lambda x: pd.Series(x['genres']), axis=1).stack().reset_index(level=1, drop=True)\n",
    "s.name = \"genre\"\n",
    "gen_md = md.drop('genres', axis=1).join(s)\n",
    "s"
   ],
   "metadata": {
    "collapsed": false
   }
  },
  {
   "cell_type": "code",
   "execution_count": 15,
   "outputs": [],
   "source": [
    "def build_chart(genre, percentile=0.85):\n",
    "    df = gen_md[gen_md[\"genre\"] == genre]\n",
    "    vote_counts = df[df[\"vote_count\"].notnull()][\"vote_count\"].astype(\"int\")\n",
    "    vote_averages = df[df[\"vote_average\"].notnull()][\"vote_average\"].astype(\"int\")\n",
    "    C = vote_averages.mean()\n",
    "    m = vote_counts.quantile(percentile)\n",
    "\n",
    "    qualified = df[(df['vote_count'] >= m) & (df['vote_count'].notnull()) & (df['vote_average'].notnull())][\n",
    "        ['title', 'year', 'vote_count', 'vote_average', 'popularity']]\n",
    "    qualified['vote_count'] = qualified['vote_count'].astype('int')\n",
    "    qualified['vote_average'] = qualified['vote_average'].astype('int')\n",
    "    qualified['wr'] = qualified.apply(\n",
    "        lambda x: (x['vote_count'] / (x['vote_count'] + m) * x['vote_average']) + (m / (m + x['vote_count']) * C),\n",
    "        axis=1)\n",
    "    qualified = qualified.sort_values('wr', ascending=False).head(250)\n",
    "\n",
    "    return qualified"
   ],
   "metadata": {
    "collapsed": false
   }
  },
  {
   "cell_type": "code",
   "execution_count": 16,
   "outputs": [
    {
     "data": {
      "text/plain": "                                 title  year  vote_count  vote_average  \\\n359                      The Lion King  1994        5520             8   \n5481                     Spirited Away  2001        3968             8   \n9698              Howl's Moving Castle  2004        2049             8   \n2884                 Princess Mononoke  1997        2041             8   \n5833                My Neighbor Totoro  1988        1730             8   \n...                                ...   ...         ...           ...   \n21990                       Free Birds  2013         259             5   \n13296           The Tale of Despereaux  2008         260             5   \n19328  Cinderella II: Dreams Come True  2002         265             5   \n6020                 The Jungle Book 2  2003         278             5   \n23645            Planes: Fire & Rescue  2014         286             5   \n\n      popularity        wr  \n359    21.605761  7.909339  \n5481   41.048867  7.875933  \n9698   16.136048  7.772103  \n2884   17.166725  7.771305  \n5833   13.507299  7.735274  \n...          ...       ...  \n21990   7.713231  5.416364  \n13296  12.364579  5.415538  \n19328   8.002712  5.411456  \n6020   10.605851  5.401209  \n23645   7.579855  5.395153  \n\n[250 rows x 6 columns]",
      "text/html": "<div>\n<style scoped>\n    .dataframe tbody tr th:only-of-type {\n        vertical-align: middle;\n    }\n\n    .dataframe tbody tr th {\n        vertical-align: top;\n    }\n\n    .dataframe thead th {\n        text-align: right;\n    }\n</style>\n<table border=\"1\" class=\"dataframe\">\n  <thead>\n    <tr style=\"text-align: right;\">\n      <th></th>\n      <th>title</th>\n      <th>year</th>\n      <th>vote_count</th>\n      <th>vote_average</th>\n      <th>popularity</th>\n      <th>wr</th>\n    </tr>\n  </thead>\n  <tbody>\n    <tr>\n      <th>359</th>\n      <td>The Lion King</td>\n      <td>1994</td>\n      <td>5520</td>\n      <td>8</td>\n      <td>21.605761</td>\n      <td>7.909339</td>\n    </tr>\n    <tr>\n      <th>5481</th>\n      <td>Spirited Away</td>\n      <td>2001</td>\n      <td>3968</td>\n      <td>8</td>\n      <td>41.048867</td>\n      <td>7.875933</td>\n    </tr>\n    <tr>\n      <th>9698</th>\n      <td>Howl's Moving Castle</td>\n      <td>2004</td>\n      <td>2049</td>\n      <td>8</td>\n      <td>16.136048</td>\n      <td>7.772103</td>\n    </tr>\n    <tr>\n      <th>2884</th>\n      <td>Princess Mononoke</td>\n      <td>1997</td>\n      <td>2041</td>\n      <td>8</td>\n      <td>17.166725</td>\n      <td>7.771305</td>\n    </tr>\n    <tr>\n      <th>5833</th>\n      <td>My Neighbor Totoro</td>\n      <td>1988</td>\n      <td>1730</td>\n      <td>8</td>\n      <td>13.507299</td>\n      <td>7.735274</td>\n    </tr>\n    <tr>\n      <th>...</th>\n      <td>...</td>\n      <td>...</td>\n      <td>...</td>\n      <td>...</td>\n      <td>...</td>\n      <td>...</td>\n    </tr>\n    <tr>\n      <th>21990</th>\n      <td>Free Birds</td>\n      <td>2013</td>\n      <td>259</td>\n      <td>5</td>\n      <td>7.713231</td>\n      <td>5.416364</td>\n    </tr>\n    <tr>\n      <th>13296</th>\n      <td>The Tale of Despereaux</td>\n      <td>2008</td>\n      <td>260</td>\n      <td>5</td>\n      <td>12.364579</td>\n      <td>5.415538</td>\n    </tr>\n    <tr>\n      <th>19328</th>\n      <td>Cinderella II: Dreams Come True</td>\n      <td>2002</td>\n      <td>265</td>\n      <td>5</td>\n      <td>8.002712</td>\n      <td>5.411456</td>\n    </tr>\n    <tr>\n      <th>6020</th>\n      <td>The Jungle Book 2</td>\n      <td>2003</td>\n      <td>278</td>\n      <td>5</td>\n      <td>10.605851</td>\n      <td>5.401209</td>\n    </tr>\n    <tr>\n      <th>23645</th>\n      <td>Planes: Fire &amp; Rescue</td>\n      <td>2014</td>\n      <td>286</td>\n      <td>5</td>\n      <td>7.579855</td>\n      <td>5.395153</td>\n    </tr>\n  </tbody>\n</table>\n<p>250 rows × 6 columns</p>\n</div>"
     },
     "execution_count": 16,
     "metadata": {},
     "output_type": "execute_result"
    }
   ],
   "source": [
    "build_chart(\"Animation\")"
   ],
   "metadata": {
    "collapsed": false
   }
  },
  {
   "cell_type": "markdown",
   "source": [
    "# Content Based Recommender\n",
    "The recommender we built in the previous section has significant limitations. It offers generic recommendations to all users, disregarding individual preferences. For example, a person who enjoys romantic movies but dislikes action films would find little value in our Top 15 chart, even when filtered by genre.\n",
    "\n",
    "Consider a user who adores \"Dilwale Dulhania Le Jayenge,\" \"My Name is Khan,\" and \"Kabhi Khushi Kabhi Gham.\" It's reasonable to infer their preference for Shah Rukh Khan and Karan Johar's work. Yet, even a romance-specific chart might not accurately reflect their taste.\n",
    "\n",
    "To enhance personalization, we'll develop a content-based filtering engine that calculates movie similarity based on specific metrics. This approach suggests movies similar to those a user has liked. We'll create two such recommenders using:\n",
    "\n",
    "* Movie overviews and taglines\n",
    "* Movie cast, crew, keywords, and genre\n",
    "\n",
    "Due to computational constraints, we'll work with a subset of the available movie data."
   ],
   "metadata": {
    "collapsed": false
   }
  },
  {
   "cell_type": "code",
   "execution_count": 17,
   "outputs": [
    {
     "data": {
      "text/plain": "0          862\n1         8844\n2        15602\n3        31357\n4        11862\n         ...  \n9120    402672\n9121    315011\n9122    391698\n9123    137608\n9124    410803\nName: tmdbId, Length: 9112, dtype: int32"
     },
     "execution_count": 17,
     "metadata": {},
     "output_type": "execute_result"
    }
   ],
   "source": [
    "links_small = pd.read_csv(\"data/links_small.csv\")\n",
    "links_small = links_small[links_small[\"tmdbId\"].notnull()][\"tmdbId\"].astype(\"int\")\n",
    "links_small"
   ],
   "metadata": {
    "collapsed": false
   }
  },
  {
   "cell_type": "code",
   "execution_count": 18,
   "outputs": [
    {
     "data": {
      "text/plain": "       adult                              belongs_to_collection    budget  \\\n0      False  {'id': 10194, 'name': 'Toy Story Collection', ...  30000000   \n1      False                                                NaN  65000000   \n2      False  {'id': 119050, 'name': 'Grumpy Old Men Collect...         0   \n3      False                                                NaN  16000000   \n4      False  {'id': 96871, 'name': 'Father of the Bride Col...         0   \n...      ...                                                ...       ...   \n45461  False                                                NaN         0   \n45462  False                                                NaN         0   \n45463  False                                                NaN         0   \n45464  False                                                NaN         0   \n45465  False                                                NaN         0   \n\n                             genres                              homepage  \\\n0       [Animation, Comedy, Family]  http://toystory.disney.com/toy-story   \n1      [Adventure, Fantasy, Family]                                   NaN   \n2                 [Romance, Comedy]                                   NaN   \n3          [Comedy, Drama, Romance]                                   NaN   \n4                          [Comedy]                                   NaN   \n...                             ...                                   ...   \n45461               [Drama, Family]  http://www.imdb.com/title/tt6209470/   \n45462                       [Drama]                                   NaN   \n45463     [Action, Drama, Thriller]                                   NaN   \n45464                            []                                   NaN   \n45465                            []                                   NaN   \n\n           id    imdb_id original_language               original_title  \\\n0         862  tt0114709                en                    Toy Story   \n1        8844  tt0113497                en                      Jumanji   \n2       15602  tt0113228                en             Grumpier Old Men   \n3       31357  tt0114885                en            Waiting to Exhale   \n4       11862  tt0113041                en  Father of the Bride Part II   \n...       ...        ...               ...                          ...   \n45461  439050  tt6209470                fa                      رگ خواب   \n45462  111109  tt2028550                tl          Siglo ng Pagluluwal   \n45463   67758  tt0303758                en                     Betrayal   \n45464  227506  tt0008536                en          Satana likuyushchiy   \n45465  461257  tt6980792                en                     Queerama   \n\n                                                overview  ...      revenue  \\\n0      Led by Woody, Andy's toys live happily in his ...  ...  373554033.0   \n1      When siblings Judy and Peter discover an encha...  ...  262797249.0   \n2      A family wedding reignites the ancient feud be...  ...          0.0   \n3      Cheated on, mistreated and stepped on, the wom...  ...   81452156.0   \n4      Just when George Banks has recovered from his ...  ...   76578911.0   \n...                                                  ...  ...          ...   \n45461        Rising and falling between a man and woman.  ...          0.0   \n45462  An artist struggles to finish his work while a...  ...          0.0   \n45463  When one of her hits goes wrong, a professiona...  ...          0.0   \n45464  In a small town live two brothers, one a minis...  ...          0.0   \n45465  50 years after decriminalisation of homosexual...  ...          0.0   \n\n      runtime                                   spoken_languages    status  \\\n0        81.0           [{'iso_639_1': 'en', 'name': 'English'}]  Released   \n1       104.0  [{'iso_639_1': 'en', 'name': 'English'}, {'iso...  Released   \n2       101.0           [{'iso_639_1': 'en', 'name': 'English'}]  Released   \n3       127.0           [{'iso_639_1': 'en', 'name': 'English'}]  Released   \n4       106.0           [{'iso_639_1': 'en', 'name': 'English'}]  Released   \n...       ...                                                ...       ...   \n45461    90.0             [{'iso_639_1': 'fa', 'name': 'فارسی'}]  Released   \n45462   360.0                  [{'iso_639_1': 'tl', 'name': ''}]  Released   \n45463    90.0           [{'iso_639_1': 'en', 'name': 'English'}]  Released   \n45464    87.0                                                 []  Released   \n45465    75.0           [{'iso_639_1': 'en', 'name': 'English'}]  Released   \n\n                                                 tagline  \\\n0                                                    NaN   \n1              Roll the dice and unleash the excitement!   \n2      Still Yelling. Still Fighting. Still Ready for...   \n3      Friends are the people who let you be yourself...   \n4      Just When His World Is Back To Normal... He's ...   \n...                                                  ...   \n45461         Rising and falling between a man and woman   \n45462                                                NaN   \n45463                             A deadly game of wits.   \n45464                                                NaN   \n45465                                                NaN   \n\n                             title  video vote_average vote_count  year  \n0                        Toy Story  False          7.7     5415.0  1995  \n1                          Jumanji  False          6.9     2413.0  1995  \n2                 Grumpier Old Men  False          6.5       92.0  1995  \n3                Waiting to Exhale  False          6.1       34.0  1995  \n4      Father of the Bride Part II  False          5.7      173.0  1995  \n...                            ...    ...          ...        ...   ...  \n45461                       Subdue  False          4.0        1.0   NaT  \n45462          Century of Birthing  False          9.0        3.0  2011  \n45463                     Betrayal  False          3.8        6.0  2003  \n45464             Satan Triumphant  False          0.0        0.0  1917  \n45465                     Queerama  False          0.0        0.0  2017  \n\n[45466 rows x 25 columns]",
      "text/html": "<div>\n<style scoped>\n    .dataframe tbody tr th:only-of-type {\n        vertical-align: middle;\n    }\n\n    .dataframe tbody tr th {\n        vertical-align: top;\n    }\n\n    .dataframe thead th {\n        text-align: right;\n    }\n</style>\n<table border=\"1\" class=\"dataframe\">\n  <thead>\n    <tr style=\"text-align: right;\">\n      <th></th>\n      <th>adult</th>\n      <th>belongs_to_collection</th>\n      <th>budget</th>\n      <th>genres</th>\n      <th>homepage</th>\n      <th>id</th>\n      <th>imdb_id</th>\n      <th>original_language</th>\n      <th>original_title</th>\n      <th>overview</th>\n      <th>...</th>\n      <th>revenue</th>\n      <th>runtime</th>\n      <th>spoken_languages</th>\n      <th>status</th>\n      <th>tagline</th>\n      <th>title</th>\n      <th>video</th>\n      <th>vote_average</th>\n      <th>vote_count</th>\n      <th>year</th>\n    </tr>\n  </thead>\n  <tbody>\n    <tr>\n      <th>0</th>\n      <td>False</td>\n      <td>{'id': 10194, 'name': 'Toy Story Collection', ...</td>\n      <td>30000000</td>\n      <td>[Animation, Comedy, Family]</td>\n      <td>http://toystory.disney.com/toy-story</td>\n      <td>862</td>\n      <td>tt0114709</td>\n      <td>en</td>\n      <td>Toy Story</td>\n      <td>Led by Woody, Andy's toys live happily in his ...</td>\n      <td>...</td>\n      <td>373554033.0</td>\n      <td>81.0</td>\n      <td>[{'iso_639_1': 'en', 'name': 'English'}]</td>\n      <td>Released</td>\n      <td>NaN</td>\n      <td>Toy Story</td>\n      <td>False</td>\n      <td>7.7</td>\n      <td>5415.0</td>\n      <td>1995</td>\n    </tr>\n    <tr>\n      <th>1</th>\n      <td>False</td>\n      <td>NaN</td>\n      <td>65000000</td>\n      <td>[Adventure, Fantasy, Family]</td>\n      <td>NaN</td>\n      <td>8844</td>\n      <td>tt0113497</td>\n      <td>en</td>\n      <td>Jumanji</td>\n      <td>When siblings Judy and Peter discover an encha...</td>\n      <td>...</td>\n      <td>262797249.0</td>\n      <td>104.0</td>\n      <td>[{'iso_639_1': 'en', 'name': 'English'}, {'iso...</td>\n      <td>Released</td>\n      <td>Roll the dice and unleash the excitement!</td>\n      <td>Jumanji</td>\n      <td>False</td>\n      <td>6.9</td>\n      <td>2413.0</td>\n      <td>1995</td>\n    </tr>\n    <tr>\n      <th>2</th>\n      <td>False</td>\n      <td>{'id': 119050, 'name': 'Grumpy Old Men Collect...</td>\n      <td>0</td>\n      <td>[Romance, Comedy]</td>\n      <td>NaN</td>\n      <td>15602</td>\n      <td>tt0113228</td>\n      <td>en</td>\n      <td>Grumpier Old Men</td>\n      <td>A family wedding reignites the ancient feud be...</td>\n      <td>...</td>\n      <td>0.0</td>\n      <td>101.0</td>\n      <td>[{'iso_639_1': 'en', 'name': 'English'}]</td>\n      <td>Released</td>\n      <td>Still Yelling. Still Fighting. Still Ready for...</td>\n      <td>Grumpier Old Men</td>\n      <td>False</td>\n      <td>6.5</td>\n      <td>92.0</td>\n      <td>1995</td>\n    </tr>\n    <tr>\n      <th>3</th>\n      <td>False</td>\n      <td>NaN</td>\n      <td>16000000</td>\n      <td>[Comedy, Drama, Romance]</td>\n      <td>NaN</td>\n      <td>31357</td>\n      <td>tt0114885</td>\n      <td>en</td>\n      <td>Waiting to Exhale</td>\n      <td>Cheated on, mistreated and stepped on, the wom...</td>\n      <td>...</td>\n      <td>81452156.0</td>\n      <td>127.0</td>\n      <td>[{'iso_639_1': 'en', 'name': 'English'}]</td>\n      <td>Released</td>\n      <td>Friends are the people who let you be yourself...</td>\n      <td>Waiting to Exhale</td>\n      <td>False</td>\n      <td>6.1</td>\n      <td>34.0</td>\n      <td>1995</td>\n    </tr>\n    <tr>\n      <th>4</th>\n      <td>False</td>\n      <td>{'id': 96871, 'name': 'Father of the Bride Col...</td>\n      <td>0</td>\n      <td>[Comedy]</td>\n      <td>NaN</td>\n      <td>11862</td>\n      <td>tt0113041</td>\n      <td>en</td>\n      <td>Father of the Bride Part II</td>\n      <td>Just when George Banks has recovered from his ...</td>\n      <td>...</td>\n      <td>76578911.0</td>\n      <td>106.0</td>\n      <td>[{'iso_639_1': 'en', 'name': 'English'}]</td>\n      <td>Released</td>\n      <td>Just When His World Is Back To Normal... He's ...</td>\n      <td>Father of the Bride Part II</td>\n      <td>False</td>\n      <td>5.7</td>\n      <td>173.0</td>\n      <td>1995</td>\n    </tr>\n    <tr>\n      <th>...</th>\n      <td>...</td>\n      <td>...</td>\n      <td>...</td>\n      <td>...</td>\n      <td>...</td>\n      <td>...</td>\n      <td>...</td>\n      <td>...</td>\n      <td>...</td>\n      <td>...</td>\n      <td>...</td>\n      <td>...</td>\n      <td>...</td>\n      <td>...</td>\n      <td>...</td>\n      <td>...</td>\n      <td>...</td>\n      <td>...</td>\n      <td>...</td>\n      <td>...</td>\n      <td>...</td>\n    </tr>\n    <tr>\n      <th>45461</th>\n      <td>False</td>\n      <td>NaN</td>\n      <td>0</td>\n      <td>[Drama, Family]</td>\n      <td>http://www.imdb.com/title/tt6209470/</td>\n      <td>439050</td>\n      <td>tt6209470</td>\n      <td>fa</td>\n      <td>رگ خواب</td>\n      <td>Rising and falling between a man and woman.</td>\n      <td>...</td>\n      <td>0.0</td>\n      <td>90.0</td>\n      <td>[{'iso_639_1': 'fa', 'name': 'فارسی'}]</td>\n      <td>Released</td>\n      <td>Rising and falling between a man and woman</td>\n      <td>Subdue</td>\n      <td>False</td>\n      <td>4.0</td>\n      <td>1.0</td>\n      <td>NaT</td>\n    </tr>\n    <tr>\n      <th>45462</th>\n      <td>False</td>\n      <td>NaN</td>\n      <td>0</td>\n      <td>[Drama]</td>\n      <td>NaN</td>\n      <td>111109</td>\n      <td>tt2028550</td>\n      <td>tl</td>\n      <td>Siglo ng Pagluluwal</td>\n      <td>An artist struggles to finish his work while a...</td>\n      <td>...</td>\n      <td>0.0</td>\n      <td>360.0</td>\n      <td>[{'iso_639_1': 'tl', 'name': ''}]</td>\n      <td>Released</td>\n      <td>NaN</td>\n      <td>Century of Birthing</td>\n      <td>False</td>\n      <td>9.0</td>\n      <td>3.0</td>\n      <td>2011</td>\n    </tr>\n    <tr>\n      <th>45463</th>\n      <td>False</td>\n      <td>NaN</td>\n      <td>0</td>\n      <td>[Action, Drama, Thriller]</td>\n      <td>NaN</td>\n      <td>67758</td>\n      <td>tt0303758</td>\n      <td>en</td>\n      <td>Betrayal</td>\n      <td>When one of her hits goes wrong, a professiona...</td>\n      <td>...</td>\n      <td>0.0</td>\n      <td>90.0</td>\n      <td>[{'iso_639_1': 'en', 'name': 'English'}]</td>\n      <td>Released</td>\n      <td>A deadly game of wits.</td>\n      <td>Betrayal</td>\n      <td>False</td>\n      <td>3.8</td>\n      <td>6.0</td>\n      <td>2003</td>\n    </tr>\n    <tr>\n      <th>45464</th>\n      <td>False</td>\n      <td>NaN</td>\n      <td>0</td>\n      <td>[]</td>\n      <td>NaN</td>\n      <td>227506</td>\n      <td>tt0008536</td>\n      <td>en</td>\n      <td>Satana likuyushchiy</td>\n      <td>In a small town live two brothers, one a minis...</td>\n      <td>...</td>\n      <td>0.0</td>\n      <td>87.0</td>\n      <td>[]</td>\n      <td>Released</td>\n      <td>NaN</td>\n      <td>Satan Triumphant</td>\n      <td>False</td>\n      <td>0.0</td>\n      <td>0.0</td>\n      <td>1917</td>\n    </tr>\n    <tr>\n      <th>45465</th>\n      <td>False</td>\n      <td>NaN</td>\n      <td>0</td>\n      <td>[]</td>\n      <td>NaN</td>\n      <td>461257</td>\n      <td>tt6980792</td>\n      <td>en</td>\n      <td>Queerama</td>\n      <td>50 years after decriminalisation of homosexual...</td>\n      <td>...</td>\n      <td>0.0</td>\n      <td>75.0</td>\n      <td>[{'iso_639_1': 'en', 'name': 'English'}]</td>\n      <td>Released</td>\n      <td>NaN</td>\n      <td>Queerama</td>\n      <td>False</td>\n      <td>0.0</td>\n      <td>0.0</td>\n      <td>2017</td>\n    </tr>\n  </tbody>\n</table>\n<p>45466 rows × 25 columns</p>\n</div>"
     },
     "execution_count": 18,
     "metadata": {},
     "output_type": "execute_result"
    }
   ],
   "source": [
    "md"
   ],
   "metadata": {
    "collapsed": false
   }
  },
  {
   "cell_type": "markdown",
   "source": [
    "I noticed some problem in \"overview\" column and I fixed it. Some of them were empty, some of them were pointless. About 900 rows deleted."
   ],
   "metadata": {
    "collapsed": false
   }
  },
  {
   "cell_type": "code",
   "execution_count": 19,
   "outputs": [
    {
     "data": {
      "text/plain": "       adult                              belongs_to_collection    budget  \\\n0      False  {'id': 10194, 'name': 'Toy Story Collection', ...  30000000   \n1      False                                                NaN  65000000   \n2      False  {'id': 119050, 'name': 'Grumpy Old Men Collect...         0   \n3      False                                                NaN  16000000   \n4      False  {'id': 96871, 'name': 'Father of the Bride Col...         0   \n...      ...                                                ...       ...   \n45461  False                                                NaN         0   \n45462  False                                                NaN         0   \n45463  False                                                NaN         0   \n45464  False                                                NaN         0   \n45465  False                                                NaN         0   \n\n                             genres                              homepage  \\\n0       [Animation, Comedy, Family]  http://toystory.disney.com/toy-story   \n1      [Adventure, Fantasy, Family]                                   NaN   \n2                 [Romance, Comedy]                                   NaN   \n3          [Comedy, Drama, Romance]                                   NaN   \n4                          [Comedy]                                   NaN   \n...                             ...                                   ...   \n45461               [Drama, Family]  http://www.imdb.com/title/tt6209470/   \n45462                       [Drama]                                   NaN   \n45463     [Action, Drama, Thriller]                                   NaN   \n45464                            []                                   NaN   \n45465                            []                                   NaN   \n\n           id    imdb_id original_language               original_title  \\\n0         862  tt0114709                en                    Toy Story   \n1        8844  tt0113497                en                      Jumanji   \n2       15602  tt0113228                en             Grumpier Old Men   \n3       31357  tt0114885                en            Waiting to Exhale   \n4       11862  tt0113041                en  Father of the Bride Part II   \n...       ...        ...               ...                          ...   \n45461  439050  tt6209470                fa                      رگ خواب   \n45462  111109  tt2028550                tl          Siglo ng Pagluluwal   \n45463   67758  tt0303758                en                     Betrayal   \n45464  227506  tt0008536                en          Satana likuyushchiy   \n45465  461257  tt6980792                en                     Queerama   \n\n                                                overview  ...      revenue  \\\n0      Led by Woody, Andy's toys live happily in his ...  ...  373554033.0   \n1      When siblings Judy and Peter discover an encha...  ...  262797249.0   \n2      A family wedding reignites the ancient feud be...  ...          0.0   \n3      Cheated on, mistreated and stepped on, the wom...  ...   81452156.0   \n4      Just when George Banks has recovered from his ...  ...   76578911.0   \n...                                                  ...  ...          ...   \n45461        Rising and falling between a man and woman.  ...          0.0   \n45462  An artist struggles to finish his work while a...  ...          0.0   \n45463  When one of her hits goes wrong, a professiona...  ...          0.0   \n45464  In a small town live two brothers, one a minis...  ...          0.0   \n45465  50 years after decriminalisation of homosexual...  ...          0.0   \n\n      runtime                                   spoken_languages    status  \\\n0        81.0           [{'iso_639_1': 'en', 'name': 'English'}]  Released   \n1       104.0  [{'iso_639_1': 'en', 'name': 'English'}, {'iso...  Released   \n2       101.0           [{'iso_639_1': 'en', 'name': 'English'}]  Released   \n3       127.0           [{'iso_639_1': 'en', 'name': 'English'}]  Released   \n4       106.0           [{'iso_639_1': 'en', 'name': 'English'}]  Released   \n...       ...                                                ...       ...   \n45461    90.0             [{'iso_639_1': 'fa', 'name': 'فارسی'}]  Released   \n45462   360.0                  [{'iso_639_1': 'tl', 'name': ''}]  Released   \n45463    90.0           [{'iso_639_1': 'en', 'name': 'English'}]  Released   \n45464    87.0                                                 []  Released   \n45465    75.0           [{'iso_639_1': 'en', 'name': 'English'}]  Released   \n\n                                                 tagline  \\\n0                                                    NaN   \n1              Roll the dice and unleash the excitement!   \n2      Still Yelling. Still Fighting. Still Ready for...   \n3      Friends are the people who let you be yourself...   \n4      Just When His World Is Back To Normal... He's ...   \n...                                                  ...   \n45461         Rising and falling between a man and woman   \n45462                                                NaN   \n45463                             A deadly game of wits.   \n45464                                                NaN   \n45465                                                NaN   \n\n                             title  video vote_average vote_count  year  \n0                        Toy Story  False          7.7     5415.0  1995  \n1                          Jumanji  False          6.9     2413.0  1995  \n2                 Grumpier Old Men  False          6.5       92.0  1995  \n3                Waiting to Exhale  False          6.1       34.0  1995  \n4      Father of the Bride Part II  False          5.7      173.0  1995  \n...                            ...    ...          ...        ...   ...  \n45461                       Subdue  False          4.0        1.0   NaT  \n45462          Century of Birthing  False          9.0        3.0  2011  \n45463                     Betrayal  False          3.8        6.0  2003  \n45464             Satan Triumphant  False          0.0        0.0  1917  \n45465                     Queerama  False          0.0        0.0  2017  \n\n[44501 rows x 25 columns]",
      "text/html": "<div>\n<style scoped>\n    .dataframe tbody tr th:only-of-type {\n        vertical-align: middle;\n    }\n\n    .dataframe tbody tr th {\n        vertical-align: top;\n    }\n\n    .dataframe thead th {\n        text-align: right;\n    }\n</style>\n<table border=\"1\" class=\"dataframe\">\n  <thead>\n    <tr style=\"text-align: right;\">\n      <th></th>\n      <th>adult</th>\n      <th>belongs_to_collection</th>\n      <th>budget</th>\n      <th>genres</th>\n      <th>homepage</th>\n      <th>id</th>\n      <th>imdb_id</th>\n      <th>original_language</th>\n      <th>original_title</th>\n      <th>overview</th>\n      <th>...</th>\n      <th>revenue</th>\n      <th>runtime</th>\n      <th>spoken_languages</th>\n      <th>status</th>\n      <th>tagline</th>\n      <th>title</th>\n      <th>video</th>\n      <th>vote_average</th>\n      <th>vote_count</th>\n      <th>year</th>\n    </tr>\n  </thead>\n  <tbody>\n    <tr>\n      <th>0</th>\n      <td>False</td>\n      <td>{'id': 10194, 'name': 'Toy Story Collection', ...</td>\n      <td>30000000</td>\n      <td>[Animation, Comedy, Family]</td>\n      <td>http://toystory.disney.com/toy-story</td>\n      <td>862</td>\n      <td>tt0114709</td>\n      <td>en</td>\n      <td>Toy Story</td>\n      <td>Led by Woody, Andy's toys live happily in his ...</td>\n      <td>...</td>\n      <td>373554033.0</td>\n      <td>81.0</td>\n      <td>[{'iso_639_1': 'en', 'name': 'English'}]</td>\n      <td>Released</td>\n      <td>NaN</td>\n      <td>Toy Story</td>\n      <td>False</td>\n      <td>7.7</td>\n      <td>5415.0</td>\n      <td>1995</td>\n    </tr>\n    <tr>\n      <th>1</th>\n      <td>False</td>\n      <td>NaN</td>\n      <td>65000000</td>\n      <td>[Adventure, Fantasy, Family]</td>\n      <td>NaN</td>\n      <td>8844</td>\n      <td>tt0113497</td>\n      <td>en</td>\n      <td>Jumanji</td>\n      <td>When siblings Judy and Peter discover an encha...</td>\n      <td>...</td>\n      <td>262797249.0</td>\n      <td>104.0</td>\n      <td>[{'iso_639_1': 'en', 'name': 'English'}, {'iso...</td>\n      <td>Released</td>\n      <td>Roll the dice and unleash the excitement!</td>\n      <td>Jumanji</td>\n      <td>False</td>\n      <td>6.9</td>\n      <td>2413.0</td>\n      <td>1995</td>\n    </tr>\n    <tr>\n      <th>2</th>\n      <td>False</td>\n      <td>{'id': 119050, 'name': 'Grumpy Old Men Collect...</td>\n      <td>0</td>\n      <td>[Romance, Comedy]</td>\n      <td>NaN</td>\n      <td>15602</td>\n      <td>tt0113228</td>\n      <td>en</td>\n      <td>Grumpier Old Men</td>\n      <td>A family wedding reignites the ancient feud be...</td>\n      <td>...</td>\n      <td>0.0</td>\n      <td>101.0</td>\n      <td>[{'iso_639_1': 'en', 'name': 'English'}]</td>\n      <td>Released</td>\n      <td>Still Yelling. Still Fighting. Still Ready for...</td>\n      <td>Grumpier Old Men</td>\n      <td>False</td>\n      <td>6.5</td>\n      <td>92.0</td>\n      <td>1995</td>\n    </tr>\n    <tr>\n      <th>3</th>\n      <td>False</td>\n      <td>NaN</td>\n      <td>16000000</td>\n      <td>[Comedy, Drama, Romance]</td>\n      <td>NaN</td>\n      <td>31357</td>\n      <td>tt0114885</td>\n      <td>en</td>\n      <td>Waiting to Exhale</td>\n      <td>Cheated on, mistreated and stepped on, the wom...</td>\n      <td>...</td>\n      <td>81452156.0</td>\n      <td>127.0</td>\n      <td>[{'iso_639_1': 'en', 'name': 'English'}]</td>\n      <td>Released</td>\n      <td>Friends are the people who let you be yourself...</td>\n      <td>Waiting to Exhale</td>\n      <td>False</td>\n      <td>6.1</td>\n      <td>34.0</td>\n      <td>1995</td>\n    </tr>\n    <tr>\n      <th>4</th>\n      <td>False</td>\n      <td>{'id': 96871, 'name': 'Father of the Bride Col...</td>\n      <td>0</td>\n      <td>[Comedy]</td>\n      <td>NaN</td>\n      <td>11862</td>\n      <td>tt0113041</td>\n      <td>en</td>\n      <td>Father of the Bride Part II</td>\n      <td>Just when George Banks has recovered from his ...</td>\n      <td>...</td>\n      <td>76578911.0</td>\n      <td>106.0</td>\n      <td>[{'iso_639_1': 'en', 'name': 'English'}]</td>\n      <td>Released</td>\n      <td>Just When His World Is Back To Normal... He's ...</td>\n      <td>Father of the Bride Part II</td>\n      <td>False</td>\n      <td>5.7</td>\n      <td>173.0</td>\n      <td>1995</td>\n    </tr>\n    <tr>\n      <th>...</th>\n      <td>...</td>\n      <td>...</td>\n      <td>...</td>\n      <td>...</td>\n      <td>...</td>\n      <td>...</td>\n      <td>...</td>\n      <td>...</td>\n      <td>...</td>\n      <td>...</td>\n      <td>...</td>\n      <td>...</td>\n      <td>...</td>\n      <td>...</td>\n      <td>...</td>\n      <td>...</td>\n      <td>...</td>\n      <td>...</td>\n      <td>...</td>\n      <td>...</td>\n      <td>...</td>\n    </tr>\n    <tr>\n      <th>45461</th>\n      <td>False</td>\n      <td>NaN</td>\n      <td>0</td>\n      <td>[Drama, Family]</td>\n      <td>http://www.imdb.com/title/tt6209470/</td>\n      <td>439050</td>\n      <td>tt6209470</td>\n      <td>fa</td>\n      <td>رگ خواب</td>\n      <td>Rising and falling between a man and woman.</td>\n      <td>...</td>\n      <td>0.0</td>\n      <td>90.0</td>\n      <td>[{'iso_639_1': 'fa', 'name': 'فارسی'}]</td>\n      <td>Released</td>\n      <td>Rising and falling between a man and woman</td>\n      <td>Subdue</td>\n      <td>False</td>\n      <td>4.0</td>\n      <td>1.0</td>\n      <td>NaT</td>\n    </tr>\n    <tr>\n      <th>45462</th>\n      <td>False</td>\n      <td>NaN</td>\n      <td>0</td>\n      <td>[Drama]</td>\n      <td>NaN</td>\n      <td>111109</td>\n      <td>tt2028550</td>\n      <td>tl</td>\n      <td>Siglo ng Pagluluwal</td>\n      <td>An artist struggles to finish his work while a...</td>\n      <td>...</td>\n      <td>0.0</td>\n      <td>360.0</td>\n      <td>[{'iso_639_1': 'tl', 'name': ''}]</td>\n      <td>Released</td>\n      <td>NaN</td>\n      <td>Century of Birthing</td>\n      <td>False</td>\n      <td>9.0</td>\n      <td>3.0</td>\n      <td>2011</td>\n    </tr>\n    <tr>\n      <th>45463</th>\n      <td>False</td>\n      <td>NaN</td>\n      <td>0</td>\n      <td>[Action, Drama, Thriller]</td>\n      <td>NaN</td>\n      <td>67758</td>\n      <td>tt0303758</td>\n      <td>en</td>\n      <td>Betrayal</td>\n      <td>When one of her hits goes wrong, a professiona...</td>\n      <td>...</td>\n      <td>0.0</td>\n      <td>90.0</td>\n      <td>[{'iso_639_1': 'en', 'name': 'English'}]</td>\n      <td>Released</td>\n      <td>A deadly game of wits.</td>\n      <td>Betrayal</td>\n      <td>False</td>\n      <td>3.8</td>\n      <td>6.0</td>\n      <td>2003</td>\n    </tr>\n    <tr>\n      <th>45464</th>\n      <td>False</td>\n      <td>NaN</td>\n      <td>0</td>\n      <td>[]</td>\n      <td>NaN</td>\n      <td>227506</td>\n      <td>tt0008536</td>\n      <td>en</td>\n      <td>Satana likuyushchiy</td>\n      <td>In a small town live two brothers, one a minis...</td>\n      <td>...</td>\n      <td>0.0</td>\n      <td>87.0</td>\n      <td>[]</td>\n      <td>Released</td>\n      <td>NaN</td>\n      <td>Satan Triumphant</td>\n      <td>False</td>\n      <td>0.0</td>\n      <td>0.0</td>\n      <td>1917</td>\n    </tr>\n    <tr>\n      <th>45465</th>\n      <td>False</td>\n      <td>NaN</td>\n      <td>0</td>\n      <td>[]</td>\n      <td>NaN</td>\n      <td>461257</td>\n      <td>tt6980792</td>\n      <td>en</td>\n      <td>Queerama</td>\n      <td>50 years after decriminalisation of homosexual...</td>\n      <td>...</td>\n      <td>0.0</td>\n      <td>75.0</td>\n      <td>[{'iso_639_1': 'en', 'name': 'English'}]</td>\n      <td>Released</td>\n      <td>NaN</td>\n      <td>Queerama</td>\n      <td>False</td>\n      <td>0.0</td>\n      <td>0.0</td>\n      <td>2017</td>\n    </tr>\n  </tbody>\n</table>\n<p>44501 rows × 25 columns</p>\n</div>"
     },
     "execution_count": 19,
     "metadata": {},
     "output_type": "execute_result"
    }
   ],
   "source": [
    "md[\"overview\"] = md[\"overview\"].fillna(\"Empty\")\n",
    "md[\"overview\"] = md[\"overview\"].astype(\"str\")\n",
    "md = md[md[\"overview\"].str.len() > 10]\n",
    "md"
   ],
   "metadata": {
    "collapsed": false
   }
  },
  {
   "cell_type": "code",
   "execution_count": 20,
   "outputs": [],
   "source": [
    "md[\"id\"] = md[\"id\"].astype(\"int\")"
   ],
   "metadata": {
    "collapsed": false
   }
  },
  {
   "cell_type": "code",
   "execution_count": 21,
   "outputs": [
    {
     "data": {
      "text/plain": "(9086, 25)"
     },
     "execution_count": 21,
     "metadata": {},
     "output_type": "execute_result"
    }
   ],
   "source": [
    "smd = md[md[\"id\"].isin(links_small)]\n",
    "smd.shape"
   ],
   "metadata": {
    "collapsed": false
   }
  },
  {
   "cell_type": "code",
   "execution_count": 22,
   "outputs": [],
   "source": [
    "smd[\"tagline\"] = smd[\"tagline\"].fillna(\"\")\n",
    "smd[\"description\"] = smd[\"overview\"] + smd[\"tagline\"]\n",
    "smd[\"description\"] = smd[\"description\"].fillna(\"\")"
   ],
   "metadata": {
    "collapsed": false
   }
  },
  {
   "cell_type": "code",
   "execution_count": 23,
   "outputs": [],
   "source": [
    "tf = TfidfVectorizer(analyzer=\"word\", ngram_range=(1, 2), stop_words=\"english\")\n",
    "tfidf_matrix = tf.fit_transform(smd[\"description\"])"
   ],
   "metadata": {
    "collapsed": false
   }
  },
  {
   "cell_type": "code",
   "execution_count": 24,
   "outputs": [
    {
     "data": {
      "text/plain": "(9086, 268124)"
     },
     "execution_count": 24,
     "metadata": {},
     "output_type": "execute_result"
    }
   ],
   "source": [
    "tfidf_matrix.shape"
   ],
   "metadata": {
    "collapsed": false
   }
  },
  {
   "cell_type": "markdown",
   "source": [
    "## Cosine Similarity\n",
    "I will be using the Cosine Similarity to calculate a numeric quantity that denotes the similarity between two movies. Mathematically, it is defined as follows:\n",
    "<br>\n",
    "${\\displaystyle cosine(x,y)=\\frac{x.y}{||x||.||y||}\\,}$\n",
    "\n",
    "Since we have used the TF-IDF Vectorizer, calculating the Dot Product will directly give us the Cosine Similarity Score. Therefore, we will use sklearn's linear_kernel instead of cosine_similarities since it is much faster."
   ],
   "metadata": {
    "collapsed": false
   }
  },
  {
   "cell_type": "code",
   "execution_count": 25,
   "outputs": [],
   "source": [
    "cosine_sim = linear_kernel(tfidf_matrix, tfidf_matrix)"
   ],
   "metadata": {
    "collapsed": false
   }
  },
  {
   "cell_type": "code",
   "execution_count": 26,
   "outputs": [
    {
     "data": {
      "text/plain": "array([1.        , 0.00680387, 0.        , ..., 0.        , 0.0034485 ,\n       0.        ])"
     },
     "execution_count": 26,
     "metadata": {},
     "output_type": "execute_result"
    }
   ],
   "source": [
    "cosine_sim[0]"
   ],
   "metadata": {
    "collapsed": false
   }
  },
  {
   "cell_type": "code",
   "execution_count": 27,
   "outputs": [],
   "source": [
    "smd = smd.reset_index()\n",
    "titles = smd[\"title\"]\n",
    "indices = pd.Series(smd.index, index=titles)"
   ],
   "metadata": {
    "collapsed": false
   }
  },
  {
   "cell_type": "code",
   "execution_count": 28,
   "outputs": [
    {
     "data": {
      "text/plain": "title\nToy Story                                                0\nJumanji                                                  1\nGrumpier Old Men                                         2\nWaiting to Exhale                                        3\nFather of the Bride Part II                              4\n                                                      ... \nShin Godzilla                                         9081\nThe Beatles: Eight Days a Week - The Touring Years    9082\nPokémon: Spell of the Unknown                         9083\nPokémon 4Ever: Celebi - Voice of the Forest           9084\nForce Majeure                                         9085\nLength: 9086, dtype: int64"
     },
     "execution_count": 28,
     "metadata": {},
     "output_type": "execute_result"
    }
   ],
   "source": [
    "indices"
   ],
   "metadata": {
    "collapsed": false
   }
  },
  {
   "cell_type": "code",
   "execution_count": 29,
   "outputs": [],
   "source": [
    "def get_recommendations(title):\n",
    "    idx = indices[title]\n",
    "    sim_scores = list(enumerate(cosine_sim[idx]))\n",
    "    sim_scores = sorted(sim_scores, key=lambda x: x[1], reverse=True)\n",
    "    sim_scores = sim_scores[1:31]\n",
    "    movie_indices = [i[0] for i in sim_scores]\n",
    "    return titles.iloc[movie_indices]"
   ],
   "metadata": {
    "collapsed": false
   }
  },
  {
   "cell_type": "code",
   "execution_count": 30,
   "outputs": [
    {
     "data": {
      "text/plain": "8565                               Tangled Ever After\n8602                                         Hercules\n9053                                     Kill Command\n6849    In the Name of the King: A Dungeon Siege Tale\n4683                                      Bad Boys II\n2575                                  American Flyers\n7164                                        Ong Bak 2\n1813                     History of the World: Part I\n7727                                        The Eagle\n2515                                       Three Ages\n6979                                       Death Note\n3588                               Best of the Best 2\n959                                Return of the Jedi\n5432                                     White Chicks\n6990            The Mummy: Tomb of the Dragon Emperor\n1022                                       Highlander\n8564                                             Raze\n7036                                        Max Payne\n6119     Star Wars: Episode III - Revenge of the Sith\n5776                                  Gates of Heaven\n3028                          Pokémon: The Movie 2000\n7192                         X-Men Origins: Wolverine\n2943                                  The Running Man\n4405                                          Chicago\n7177              The Butterfly Effect 3: Revelations\n6634                                              300\n2177                                        Spartacus\n3717                                    The Musketeer\n2254                                     On the Ropes\n2711                                Final Destination\nName: title, dtype: object"
     },
     "execution_count": 30,
     "metadata": {},
     "output_type": "execute_result"
    }
   ],
   "source": [
    "get_recommendations(\"Gladiator\")"
   ],
   "metadata": {
    "collapsed": false
   }
  },
  {
   "cell_type": "markdown",
   "source": [
    "# Metadata Based Recommender\n",
    "\n",
    "To build our standard metadata based content recommender, we will need to merge our current dataset with the crew and the keyword datasets. Let us prepare this data as our first step."
   ],
   "metadata": {
    "collapsed": false
   }
  },
  {
   "cell_type": "code",
   "execution_count": 31,
   "outputs": [],
   "source": [
    "credits = pd.read_csv(\"data/credits.csv\")\n",
    "keywords = pd.read_csv(\"data/keywords.csv\")"
   ],
   "metadata": {
    "collapsed": false
   }
  },
  {
   "cell_type": "code",
   "execution_count": 32,
   "outputs": [],
   "source": [
    "keywords['id'] = keywords['id'].astype('int')\n",
    "credits['id'] = credits['id'].astype('int')\n",
    "md['id'] = md['id'].astype('int')"
   ],
   "metadata": {
    "collapsed": false
   }
  },
  {
   "cell_type": "code",
   "execution_count": 33,
   "outputs": [
    {
     "data": {
      "text/plain": "(44501, 25)"
     },
     "execution_count": 33,
     "metadata": {},
     "output_type": "execute_result"
    }
   ],
   "source": [
    "md.shape"
   ],
   "metadata": {
    "collapsed": false
   }
  },
  {
   "cell_type": "code",
   "execution_count": 34,
   "outputs": [],
   "source": [
    "md = md.merge(credits, on=\"id\")\n",
    "md = md.merge(keywords, on=\"id\")"
   ],
   "metadata": {
    "collapsed": false
   }
  },
  {
   "cell_type": "code",
   "execution_count": 35,
   "outputs": [
    {
     "data": {
      "text/plain": "(9206, 28)"
     },
     "execution_count": 35,
     "metadata": {},
     "output_type": "execute_result"
    }
   ],
   "source": [
    "smd = md[md[\"id\"].isin(links_small)]\n",
    "smd.shape"
   ],
   "metadata": {
    "collapsed": false
   }
  },
  {
   "cell_type": "code",
   "execution_count": 36,
   "outputs": [],
   "source": [
    "smd['cast'] = smd['cast'].apply(literal_eval)\n",
    "smd['crew'] = smd['crew'].apply(literal_eval)\n",
    "smd['keywords'] = smd['keywords'].apply(literal_eval)\n",
    "smd['cast_size'] = smd['cast'].apply(lambda x: len(x))\n",
    "smd['crew_size'] = smd['crew'].apply(lambda x: len(x))"
   ],
   "metadata": {
    "collapsed": false
   }
  },
  {
   "cell_type": "code",
   "execution_count": 37,
   "outputs": [],
   "source": [
    "def get_director(x):\n",
    "    for i in x:\n",
    "        if i[\"job\"] == \"Director\":\n",
    "            return i[\"name\"]\n",
    "    return np.nan"
   ],
   "metadata": {
    "collapsed": false
   }
  },
  {
   "cell_type": "code",
   "execution_count": 38,
   "outputs": [],
   "source": [
    "smd[\"director\"] = smd[\"crew\"].apply(get_director)"
   ],
   "metadata": {
    "collapsed": false
   }
  },
  {
   "cell_type": "code",
   "execution_count": 39,
   "outputs": [],
   "source": [
    "smd['cast'] = smd['cast'].apply(lambda x: [i['name'] for i in x] if isinstance(x, list) else [])\n",
    "smd['cast'] = smd['cast'].apply(lambda x: x[:3] if len(x) >= 3 else x)"
   ],
   "metadata": {
    "collapsed": false
   }
  },
  {
   "cell_type": "markdown",
   "source": [
    "My approach to building the recommender is going to be extremely hacky. What I plan on doing is creating a metadata dump for every movie which consists of genres, director, main actors and keywords. I then use a Count Vectorizer to create our count matrix as we did in the Description Recommender. The remaining steps are similar to what we did earlier: we calculate the cosine similarities and return movies that are most similar.\n",
    "\n",
    "These are steps I follow in the preparation of my genres and credits data:\n",
    "\n",
    "* Strip Spaces and Convert to Lowercase from all our features. This way, our engine will not confuse between Johnny Depp and Johnny Galecki.\n",
    "* Mention Director 3 times to give it more weight relative to the entire cast."
   ],
   "metadata": {
    "collapsed": false
   }
  },
  {
   "cell_type": "code",
   "execution_count": 40,
   "outputs": [],
   "source": [
    "smd[\"cast\"] = smd[\"cast\"].apply(lambda x: [str.lower(i.replace(\" \", \"\")) for i in x])"
   ],
   "metadata": {
    "collapsed": false
   }
  },
  {
   "cell_type": "code",
   "execution_count": 41,
   "outputs": [],
   "source": [
    "smd[\"director\"] = smd[\"director\"].astype(\"str\").apply(lambda x: str.lower(x.replace(\" \", \"\")))\n",
    "smd[\"director\"] = smd[\"director\"].apply(lambda x: [x, x, x])"
   ],
   "metadata": {
    "collapsed": false
   }
  },
  {
   "cell_type": "code",
   "execution_count": 42,
   "outputs": [],
   "source": [
    "s = smd.apply(lambda x: pd.Series(x['keywords']), axis=1).stack().reset_index(level=1, drop=True)\n",
    "s.name = 'keyword'"
   ],
   "metadata": {
    "collapsed": false
   }
  },
  {
   "cell_type": "code",
   "execution_count": 43,
   "outputs": [
    {
     "data": {
      "text/plain": "{'id': 10183, 'name': 'independent film'}          610\n{'id': 187056, 'name': 'woman director'}           550\n{'id': 9826, 'name': 'murder'}                     399\n{'id': 179431, 'name': 'duringcreditsstinger'}     327\n{'id': 818, 'name': 'based on novel'}              318\n                                                  ... \n{'id': 193716, 'name': 'kitchen sink realism'}       1\n{'id': 228208, 'name': 'motion picture studio'}      1\n{'id': 172621, 'name': 'driving in the rain'}        1\n{'id': 9856, 'name': 'flashback sequence'}           1\n{'id': 235525, 'name': 'toyko'}                      1\nName: keyword, Length: 12939, dtype: int64"
     },
     "execution_count": 43,
     "metadata": {},
     "output_type": "execute_result"
    }
   ],
   "source": [
    "s = s.value_counts()\n",
    "s"
   ],
   "metadata": {
    "collapsed": false
   }
  },
  {
   "cell_type": "code",
   "execution_count": 44,
   "outputs": [],
   "source": [
    "s = s[s > 1]"
   ],
   "metadata": {
    "collapsed": false
   }
  },
  {
   "cell_type": "code",
   "execution_count": 45,
   "outputs": [],
   "source": [
    "stemmer = SnowballStemmer(\"english\")"
   ],
   "metadata": {
    "collapsed": false
   }
  },
  {
   "cell_type": "code",
   "execution_count": 46,
   "outputs": [],
   "source": [
    "def filter_keywords(x):\n",
    "    words = []\n",
    "    for i in x:\n",
    "        if (s_keywords.str.strip() == i).any():\n",
    "            words.append(i)\n",
    "    return words"
   ],
   "metadata": {
    "collapsed": false
   }
  },
  {
   "cell_type": "code",
   "execution_count": 47,
   "outputs": [
    {
     "data": {
      "text/plain": "                                             keyword  count\n0          {'id': 10183, 'name': 'independent film'}    610\n1           {'id': 187056, 'name': 'woman director'}    550\n2                     {'id': 9826, 'name': 'murder'}    399\n3     {'id': 179431, 'name': 'duringcreditsstinger'}    327\n4              {'id': 818, 'name': 'based on novel'}    318\n...                                              ...    ...\n6700              {'id': 171445, 'name': 'tutoring'}      2\n6701       {'id': 209339, 'name': 'mining accident'}      2\n6702        {'id': 1642, 'name': 'bicycle accident'}      2\n6703             {'id': 14899, 'name': 'white suit'}      2\n6704              {'id': 155296, 'name': 'kalahari'}      2\n\n[6705 rows x 2 columns]",
      "text/html": "<div>\n<style scoped>\n    .dataframe tbody tr th:only-of-type {\n        vertical-align: middle;\n    }\n\n    .dataframe tbody tr th {\n        vertical-align: top;\n    }\n\n    .dataframe thead th {\n        text-align: right;\n    }\n</style>\n<table border=\"1\" class=\"dataframe\">\n  <thead>\n    <tr style=\"text-align: right;\">\n      <th></th>\n      <th>keyword</th>\n      <th>count</th>\n    </tr>\n  </thead>\n  <tbody>\n    <tr>\n      <th>0</th>\n      <td>{'id': 10183, 'name': 'independent film'}</td>\n      <td>610</td>\n    </tr>\n    <tr>\n      <th>1</th>\n      <td>{'id': 187056, 'name': 'woman director'}</td>\n      <td>550</td>\n    </tr>\n    <tr>\n      <th>2</th>\n      <td>{'id': 9826, 'name': 'murder'}</td>\n      <td>399</td>\n    </tr>\n    <tr>\n      <th>3</th>\n      <td>{'id': 179431, 'name': 'duringcreditsstinger'}</td>\n      <td>327</td>\n    </tr>\n    <tr>\n      <th>4</th>\n      <td>{'id': 818, 'name': 'based on novel'}</td>\n      <td>318</td>\n    </tr>\n    <tr>\n      <th>...</th>\n      <td>...</td>\n      <td>...</td>\n    </tr>\n    <tr>\n      <th>6700</th>\n      <td>{'id': 171445, 'name': 'tutoring'}</td>\n      <td>2</td>\n    </tr>\n    <tr>\n      <th>6701</th>\n      <td>{'id': 209339, 'name': 'mining accident'}</td>\n      <td>2</td>\n    </tr>\n    <tr>\n      <th>6702</th>\n      <td>{'id': 1642, 'name': 'bicycle accident'}</td>\n      <td>2</td>\n    </tr>\n    <tr>\n      <th>6703</th>\n      <td>{'id': 14899, 'name': 'white suit'}</td>\n      <td>2</td>\n    </tr>\n    <tr>\n      <th>6704</th>\n      <td>{'id': 155296, 'name': 'kalahari'}</td>\n      <td>2</td>\n    </tr>\n  </tbody>\n</table>\n<p>6705 rows × 2 columns</p>\n</div>"
     },
     "execution_count": 47,
     "metadata": {},
     "output_type": "execute_result"
    }
   ],
   "source": [
    "s = pd.DataFrame(s)\n",
    "s[\"count\"] = s[\"keyword\"]\n",
    "s[\"keyword\"] = s.index\n",
    "s.reset_index(inplace=True, drop=True)\n",
    "s"
   ],
   "metadata": {
    "collapsed": false
   }
  },
  {
   "cell_type": "code",
   "execution_count": 48,
   "outputs": [
    {
     "data": {
      "text/plain": "                   keyword  count      id\n0         independent film    610   10183\n1           woman director    550  187056\n2                   murder    399    9826\n3     duringcreditsstinger    327  179431\n4           based on novel    318     818\n...                    ...    ...     ...\n6700              tutoring      2  171445\n6701       mining accident      2  209339\n6702      bicycle accident      2    1642\n6703            white suit      2   14899\n6704              kalahari      2  155296\n\n[6705 rows x 3 columns]",
      "text/html": "<div>\n<style scoped>\n    .dataframe tbody tr th:only-of-type {\n        vertical-align: middle;\n    }\n\n    .dataframe tbody tr th {\n        vertical-align: top;\n    }\n\n    .dataframe thead th {\n        text-align: right;\n    }\n</style>\n<table border=\"1\" class=\"dataframe\">\n  <thead>\n    <tr style=\"text-align: right;\">\n      <th></th>\n      <th>keyword</th>\n      <th>count</th>\n      <th>id</th>\n    </tr>\n  </thead>\n  <tbody>\n    <tr>\n      <th>0</th>\n      <td>independent film</td>\n      <td>610</td>\n      <td>10183</td>\n    </tr>\n    <tr>\n      <th>1</th>\n      <td>woman director</td>\n      <td>550</td>\n      <td>187056</td>\n    </tr>\n    <tr>\n      <th>2</th>\n      <td>murder</td>\n      <td>399</td>\n      <td>9826</td>\n    </tr>\n    <tr>\n      <th>3</th>\n      <td>duringcreditsstinger</td>\n      <td>327</td>\n      <td>179431</td>\n    </tr>\n    <tr>\n      <th>4</th>\n      <td>based on novel</td>\n      <td>318</td>\n      <td>818</td>\n    </tr>\n    <tr>\n      <th>...</th>\n      <td>...</td>\n      <td>...</td>\n      <td>...</td>\n    </tr>\n    <tr>\n      <th>6700</th>\n      <td>tutoring</td>\n      <td>2</td>\n      <td>171445</td>\n    </tr>\n    <tr>\n      <th>6701</th>\n      <td>mining accident</td>\n      <td>2</td>\n      <td>209339</td>\n    </tr>\n    <tr>\n      <th>6702</th>\n      <td>bicycle accident</td>\n      <td>2</td>\n      <td>1642</td>\n    </tr>\n    <tr>\n      <th>6703</th>\n      <td>white suit</td>\n      <td>2</td>\n      <td>14899</td>\n    </tr>\n    <tr>\n      <th>6704</th>\n      <td>kalahari</td>\n      <td>2</td>\n      <td>155296</td>\n    </tr>\n  </tbody>\n</table>\n<p>6705 rows × 3 columns</p>\n</div>"
     },
     "execution_count": 48,
     "metadata": {},
     "output_type": "execute_result"
    }
   ],
   "source": [
    "s[\"id\"] = s[\"keyword\"].apply(lambda x: x[\"id\"])\n",
    "s[\"keyword\"] = s[\"keyword\"].apply(lambda x: x[\"name\"])\n",
    "s"
   ],
   "metadata": {
    "collapsed": false
   }
  },
  {
   "cell_type": "code",
   "execution_count": 49,
   "outputs": [
    {
     "data": {
      "text/plain": "0        [jealousy, toy, boy, friendship, friends, riva...\n1        [board game, disappearance, based on children'...\n2        [fishing, best friend, duringcreditsstinger, o...\n3        [based on novel, interracial relationship, sin...\n4        [baby, midlife crisis, confidence, aging, daug...\n                               ...                        \n40176                           [friendship, brick making]\n40392                                          [bollywood]\n40445                                          [bollywood]\n40601    [monster, godzilla, giant monster, destruction...\n40875                                 [music, documentary]\nName: keywords, Length: 9206, dtype: object"
     },
     "execution_count": 49,
     "metadata": {},
     "output_type": "execute_result"
    }
   ],
   "source": [
    "smd['keywords'] = smd['keywords'].apply(lambda x: [i[\"name\"] for i in x])\n",
    "smd['keywords']"
   ],
   "metadata": {
    "collapsed": false
   }
  },
  {
   "cell_type": "code",
   "execution_count": 50,
   "outputs": [],
   "source": [
    "# smd['keywords'] = smd['keywords'].apply(filter_keywords)\n",
    "# smd['keywords'] = smd['keywords'].apply(lambda x: [stemmer.stem(i) for i in x])\n",
    "# smd['keywords'] = smd['keywords'].apply(lambda x: [str.lower(i.replace(\" \", \"\")) for i in x])\n",
    "# smd[\"keywords\"]"
   ],
   "metadata": {
    "collapsed": false
   }
  },
  {
   "cell_type": "code",
   "execution_count": 51,
   "outputs": [
    
   ],
   "source": [
    "# smd['keywords'] = smd['keywords'].apply(filter_keywords)"
   ],
   "metadata": {
    "collapsed": false
   }
  },
  {
   "cell_type": "code",
   "execution_count": 52,
   "outputs": [],
   "source": [
    "smd[\"soup\"] = smd[\"keywords\"] + smd[\"cast\"] + smd[\"director\"] + smd[\"genres\"]\n",
    "smd[\"soup\"] = smd[\"soup\"].apply(lambda x: \" \".join(x))"
   ],
   "metadata": {
    "collapsed": false
   }
  },
  {
   "cell_type": "code",
   "execution_count": 53,
   "outputs": [],
   "source": [
    "count = CountVectorizer(analyzer=\"word\", ngram_range=(1, 2), stop_words=\"english\")\n",
    "count_matrix = count.fit_transform(smd[\"soup\"])"
   ],
   "metadata": {
    "collapsed": false
   }
  },
  {
   "cell_type": "code",
   "execution_count": 54,
   "outputs": [],
   "source": [
    "cosine_sim = cosine_similarity(count_matrix, count_matrix)"
   ],
   "metadata": {
    "collapsed": false
   }
  },
  {
   "cell_type": "code",
   "execution_count": 55,
   "outputs": [],
   "source": [
    "smd = smd.reset_index()\n",
    "titles = smd[\"title\"]\n",
    "indices = pd.Series(smd.index, index=smd[\"title\"])"
   ],
   "metadata": {
    "collapsed": false
   }
  },
  {
   "cell_type": "code",
   "execution_count": 56,
   "outputs": [
    {
     "data": {
      "text/plain": "6212                 Batman Begins\n8024         The Dark Knight Rises\n7652    Batman: Under the Red Hood\n1131                Batman Returns\n1256                Batman & Robin\n6617                  The Prestige\n2080                     Following\n523                         Batman\n4139                      Insomnia\n2126                      Superman\n7641                     Inception\n132                 Batman Forever\n7994              Batman: Year One\n8459                    Kick-Ass 2\n1028                             M\nName: title, dtype: object"
     },
     "execution_count": 56,
     "metadata": {},
     "output_type": "execute_result"
    }
   ],
   "source": [
    "get_recommendations('The Dark Knight').head(15)"
   ],
   "metadata": {
    "collapsed": false
   }
  },
  {
   "cell_type": "code",
   "execution_count": 57,
   "outputs": [
    {
     "data": {
      "text/plain": "index                                                                 1495\nadult                                                                False\nbelongs_to_collection    {'id': 120794, 'name': 'Batman Collection', 'p...\nbudget                                                           125000000\ngenres                                            [Action, Crime, Fantasy]\nhomepage                                                               NaN\nid                                                                     415\nimdb_id                                                          tt0118688\noriginal_language                                                       en\noriginal_title                                              Batman & Robin\noverview                 Along with crime-fighting partner Robin and ne...\npopularity                                                       17.038824\nposter_path                               /79AYCcxw3kSKbhGpx1LiqaCAbwo.jpg\nproduction_companies     [{'name': 'PolyGram Filmed Entertainment', 'id...\nproduction_countries     [{'iso_3166_1': 'GB', 'name': 'United Kingdom'...\nrelease_date                                                    1997-06-20\nrevenue                                                        238207122.0\nruntime                                                              125.0\nspoken_languages                  [{'iso_639_1': 'en', 'name': 'English'}]\nstatus                                                            Released\ntagline                             Strength. Courage. Honor. And loyalty.\ntitle                                                       Batman & Robin\nvideo                                                                False\nvote_average                                                           4.2\nvote_count                                                          1447.0\nyear                                                                  1997\ncast                     [georgeclooney, chriso'donnell, arnoldschwarze...\ncrew                     [{'credit_id': '59b66a169251417cbc011ec4', 'de...\nkeywords                 [double life, dc comics, dual identity, crime ...\ncast_size                                                               14\ncrew_size                                                              105\ndirector                  [joelschumacher, joelschumacher, joelschumacher]\nsoup                     double life dc comics dual identity crime figh...\nName: 1256, dtype: object"
     },
     "execution_count": 57,
     "metadata": {},
     "output_type": "execute_result"
    }
   ],
   "source": [
    "smd.iloc[1256]"
   ],
   "metadata": {
    "collapsed": false
   }
  },
  {
   "cell_type": "code",
   "execution_count": 58,
   "outputs": [],
   "source": [
    "def improved_recommendations(title):\n",
    "    idx = indices[title]\n",
    "    sim_scores = list(enumerate(cosine_sim[idx]))\n",
    "    sim_scores = sorted(sim_scores, key=lambda x: x[1], reverse=True)\n",
    "    sim_scores = sim_scores[1:26]\n",
    "    movie_indices = [i[0] for i in sim_scores]\n",
    "\n",
    "    movies = smd.iloc[movie_indices][['title', 'vote_count', 'vote_average', 'year']]\n",
    "    vote_counts = movies[movies['vote_count'].notnull()]['vote_count'].astype('int')\n",
    "    vote_averages = movies[movies['vote_average'].notnull()]['vote_average'].astype('int')\n",
    "    C = vote_averages.mean()\n",
    "    m = vote_averages.quantile(0.60)\n",
    "    qualified = movies[\n",
    "        (movies['vote_average'] >= m) & (movies['vote_count'].notnull()) & (movies['vote_average'].notnull())]\n",
    "    qualified['vote_count'] = qualified['vote_count'].astype('int')\n",
    "    qualified['vote_average'] = qualified['vote_average'].astype('int')\n",
    "    qualified['wr'] = qualified.apply(weighted_rating, axis=1)\n",
    "    qualified = qualified.sort_values('wr', ascending=False).head(10)\n",
    "    return qualified"
   ],
   "metadata": {
    "collapsed": false
   }
  },
  {
   "cell_type": "code",
   "execution_count": 59,
   "outputs": [
    {
     "data": {
      "text/plain": "                           title  vote_count  vote_average  year        wr\n7641                   Inception       14075             8  2010  7.917588\n6617                The Prestige        4510             8  2006  7.758148\n3376                     Memento        4168             8  2000  7.740175\n8024       The Dark Knight Rises        9263             7  2012  6.921448\n6212               Batman Begins        7511             7  2005  6.904127\n7576                    Kick-Ass        4747             7  2010  6.852979\n523                       Batman        2145             7  1989  6.704647\n1028                           M         465             8  1931  6.669950\n7652  Batman: Under the Red Hood         459             7  2010  6.147016\n2080                   Following         363             7  1998  6.044272",
      "text/html": "<div>\n<style scoped>\n    .dataframe tbody tr th:only-of-type {\n        vertical-align: middle;\n    }\n\n    .dataframe tbody tr th {\n        vertical-align: top;\n    }\n\n    .dataframe thead th {\n        text-align: right;\n    }\n</style>\n<table border=\"1\" class=\"dataframe\">\n  <thead>\n    <tr style=\"text-align: right;\">\n      <th></th>\n      <th>title</th>\n      <th>vote_count</th>\n      <th>vote_average</th>\n      <th>year</th>\n      <th>wr</th>\n    </tr>\n  </thead>\n  <tbody>\n    <tr>\n      <th>7641</th>\n      <td>Inception</td>\n      <td>14075</td>\n      <td>8</td>\n      <td>2010</td>\n      <td>7.917588</td>\n    </tr>\n    <tr>\n      <th>6617</th>\n      <td>The Prestige</td>\n      <td>4510</td>\n      <td>8</td>\n      <td>2006</td>\n      <td>7.758148</td>\n    </tr>\n    <tr>\n      <th>3376</th>\n      <td>Memento</td>\n      <td>4168</td>\n      <td>8</td>\n      <td>2000</td>\n      <td>7.740175</td>\n    </tr>\n    <tr>\n      <th>8024</th>\n      <td>The Dark Knight Rises</td>\n      <td>9263</td>\n      <td>7</td>\n      <td>2012</td>\n      <td>6.921448</td>\n    </tr>\n    <tr>\n      <th>6212</th>\n      <td>Batman Begins</td>\n      <td>7511</td>\n      <td>7</td>\n      <td>2005</td>\n      <td>6.904127</td>\n    </tr>\n    <tr>\n      <th>7576</th>\n      <td>Kick-Ass</td>\n      <td>4747</td>\n      <td>7</td>\n      <td>2010</td>\n      <td>6.852979</td>\n    </tr>\n    <tr>\n      <th>523</th>\n      <td>Batman</td>\n      <td>2145</td>\n      <td>7</td>\n      <td>1989</td>\n      <td>6.704647</td>\n    </tr>\n    <tr>\n      <th>1028</th>\n      <td>M</td>\n      <td>465</td>\n      <td>8</td>\n      <td>1931</td>\n      <td>6.669950</td>\n    </tr>\n    <tr>\n      <th>7652</th>\n      <td>Batman: Under the Red Hood</td>\n      <td>459</td>\n      <td>7</td>\n      <td>2010</td>\n      <td>6.147016</td>\n    </tr>\n    <tr>\n      <th>2080</th>\n      <td>Following</td>\n      <td>363</td>\n      <td>7</td>\n      <td>1998</td>\n      <td>6.044272</td>\n    </tr>\n  </tbody>\n</table>\n</div>"
     },
     "execution_count": 59,
     "metadata": {},
     "output_type": "execute_result"
    }
   ],
   "source": [
    "improved_recommendations('The Dark Knight')"
   ],
   "metadata": {
    "collapsed": false
   }
  },
  {
   "cell_type": "markdown",
   "source": [
    "# Collaborative Filtering\n",
    "\n",
    "I will not be implementing Collaborative Filtering from scratch. Instead, I will use the Surprise library that used extremely powerful algorithms like Singular Value Decomposition (SVD) to minimise RMSE (Root Mean Square Error) and give great recommendations."
   ],
   "metadata": {
    "collapsed": false
   }
  },
  {
   "cell_type": "code",
   "execution_count": 60,
   "outputs": [],
   "source": [
    "reader = Reader()"
   ],
   "metadata": {
    "collapsed": false
   }
  },
  {
   "cell_type": "code",
   "execution_count": 61,
   "outputs": [
    {
     "data": {
      "text/plain": "        userId  movieId  rating   timestamp\n0            1       31     2.5  1260759144\n1            1     1029     3.0  1260759179\n2            1     1061     3.0  1260759182\n3            1     1129     2.0  1260759185\n4            1     1172     4.0  1260759205\n...        ...      ...     ...         ...\n99999      671     6268     2.5  1065579370\n100000     671     6269     4.0  1065149201\n100001     671     6365     4.0  1070940363\n100002     671     6385     2.5  1070979663\n100003     671     6565     3.5  1074784724\n\n[100004 rows x 4 columns]",
      "text/html": "<div>\n<style scoped>\n    .dataframe tbody tr th:only-of-type {\n        vertical-align: middle;\n    }\n\n    .dataframe tbody tr th {\n        vertical-align: top;\n    }\n\n    .dataframe thead th {\n        text-align: right;\n    }\n</style>\n<table border=\"1\" class=\"dataframe\">\n  <thead>\n    <tr style=\"text-align: right;\">\n      <th></th>\n      <th>userId</th>\n      <th>movieId</th>\n      <th>rating</th>\n      <th>timestamp</th>\n    </tr>\n  </thead>\n  <tbody>\n    <tr>\n      <th>0</th>\n      <td>1</td>\n      <td>31</td>\n      <td>2.5</td>\n      <td>1260759144</td>\n    </tr>\n    <tr>\n      <th>1</th>\n      <td>1</td>\n      <td>1029</td>\n      <td>3.0</td>\n      <td>1260759179</td>\n    </tr>\n    <tr>\n      <th>2</th>\n      <td>1</td>\n      <td>1061</td>\n      <td>3.0</td>\n      <td>1260759182</td>\n    </tr>\n    <tr>\n      <th>3</th>\n      <td>1</td>\n      <td>1129</td>\n      <td>2.0</td>\n      <td>1260759185</td>\n    </tr>\n    <tr>\n      <th>4</th>\n      <td>1</td>\n      <td>1172</td>\n      <td>4.0</td>\n      <td>1260759205</td>\n    </tr>\n    <tr>\n      <th>...</th>\n      <td>...</td>\n      <td>...</td>\n      <td>...</td>\n      <td>...</td>\n    </tr>\n    <tr>\n      <th>99999</th>\n      <td>671</td>\n      <td>6268</td>\n      <td>2.5</td>\n      <td>1065579370</td>\n    </tr>\n    <tr>\n      <th>100000</th>\n      <td>671</td>\n      <td>6269</td>\n      <td>4.0</td>\n      <td>1065149201</td>\n    </tr>\n    <tr>\n      <th>100001</th>\n      <td>671</td>\n      <td>6365</td>\n      <td>4.0</td>\n      <td>1070940363</td>\n    </tr>\n    <tr>\n      <th>100002</th>\n      <td>671</td>\n      <td>6385</td>\n      <td>2.5</td>\n      <td>1070979663</td>\n    </tr>\n    <tr>\n      <th>100003</th>\n      <td>671</td>\n      <td>6565</td>\n      <td>3.5</td>\n      <td>1074784724</td>\n    </tr>\n  </tbody>\n</table>\n<p>100004 rows × 4 columns</p>\n</div>"
     },
     "execution_count": 61,
     "metadata": {},
     "output_type": "execute_result"
    }
   ],
   "source": [
    "ratings = pd.read_csv(\"data/ratings_small.csv\")\n",
    "ratings"
   ],
   "metadata": {
    "collapsed": false
   }
  },
  {
   "cell_type": "code",
   "execution_count": 62,
   "outputs": [
    {
     "name": "stdout",
     "output_type": "stream",
     "text": [
      "Evaluating RMSE, MAE of algorithm SVD on 10 split(s).\n",
      "\n",
      "                  Fold 1  Fold 2  Fold 3  Fold 4  Fold 5  Fold 6  Fold 7  Fold 8  Fold 9  Fold 10 Mean    Std     \n",
      "RMSE (testset)    0.8921  0.8923  0.8975  0.8780  0.8933  0.8919  0.8874  0.9011  0.8918  0.8895  0.8915  0.0058  \n",
      "MAE (testset)     0.6857  0.6835  0.6893  0.6776  0.6931  0.6862  0.6828  0.6894  0.6868  0.6834  0.6858  0.0041  \n",
      "Fit time          1.05    0.82    0.89    0.78    0.85    0.77    0.83    0.80    0.85    0.79    0.84    0.08    \n",
      "Test time         0.04    0.04    0.03    0.03    0.03    0.03    0.03    0.11    0.03    0.03    0.04    0.02    \n"
     ]
    },
    {
     "data": {
      "text/plain": "{'test_rmse': array([0.89207891, 0.89230108, 0.89752875, 0.87801443, 0.89333785,\n        0.89185348, 0.88738484, 0.90109157, 0.8917523 , 0.88951158]),\n 'test_mae': array([0.68572797, 0.68349087, 0.68926188, 0.67757714, 0.6931014 ,\n        0.68622904, 0.68276699, 0.6893991 , 0.68683095, 0.68339989]),\n 'fit_time': (1.0461819171905518,\n  0.8156661987304688,\n  0.8894891738891602,\n  0.7824380397796631,\n  0.8491690158843994,\n  0.7739138603210449,\n  0.8316693305969238,\n  0.7956557273864746,\n  0.8452086448669434,\n  0.7918796539306641),\n 'test_time': (0.03749561309814453,\n  0.03634524345397949,\n  0.03000020980834961,\n  0.03433084487915039,\n  0.0317533016204834,\n  0.030097007751464844,\n  0.02964043617248535,\n  0.1113579273223877,\n  0.034592628479003906,\n  0.030920743942260742)}"
     },
     "execution_count": 62,
     "metadata": {},
     "output_type": "execute_result"
    }
   ],
   "source": [
    "data = Dataset.load_from_df(ratings[[\"userId\", \"movieId\", \"rating\"]], reader)\n",
    "svd = SVD()\n",
    "cross_validate(svd, data, measures=[\"RMSE\", \"MAE\"], cv=10, verbose=True)"
   ],
   "metadata": {
    "collapsed": false
   }
  },
  {
   "cell_type": "code",
   "execution_count": 63,
   "outputs": [
    {
     "data": {
      "text/plain": "<surprise.prediction_algorithms.matrix_factorization.SVD at 0x2a4f69871f0>"
     },
     "execution_count": 63,
     "metadata": {},
     "output_type": "execute_result"
    }
   ],
   "source": [
    "trainset = data.build_full_trainset()\n",
    "svd.fit(trainset)"
   ],
   "metadata": {
    "collapsed": false
   }
  },
  {
   "cell_type": "code",
   "execution_count": 64,
   "outputs": [
    {
     "data": {
      "text/plain": "    userId  movieId  rating  timestamp\n20       2       10     4.0  835355493\n21       2       17     5.0  835355681\n22       2       39     5.0  835355604\n23       2       47     4.0  835355552\n24       2       50     4.0  835355586\n..     ...      ...     ...        ...\n91       2      592     5.0  835355395\n92       2      593     3.0  835355511\n93       2      616     3.0  835355932\n94       2      661     4.0  835356141\n95       2      720     4.0  835355978\n\n[76 rows x 4 columns]",
      "text/html": "<div>\n<style scoped>\n    .dataframe tbody tr th:only-of-type {\n        vertical-align: middle;\n    }\n\n    .dataframe tbody tr th {\n        vertical-align: top;\n    }\n\n    .dataframe thead th {\n        text-align: right;\n    }\n</style>\n<table border=\"1\" class=\"dataframe\">\n  <thead>\n    <tr style=\"text-align: right;\">\n      <th></th>\n      <th>userId</th>\n      <th>movieId</th>\n      <th>rating</th>\n      <th>timestamp</th>\n    </tr>\n  </thead>\n  <tbody>\n    <tr>\n      <th>20</th>\n      <td>2</td>\n      <td>10</td>\n      <td>4.0</td>\n      <td>835355493</td>\n    </tr>\n    <tr>\n      <th>21</th>\n      <td>2</td>\n      <td>17</td>\n      <td>5.0</td>\n      <td>835355681</td>\n    </tr>\n    <tr>\n      <th>22</th>\n      <td>2</td>\n      <td>39</td>\n      <td>5.0</td>\n      <td>835355604</td>\n    </tr>\n    <tr>\n      <th>23</th>\n      <td>2</td>\n      <td>47</td>\n      <td>4.0</td>\n      <td>835355552</td>\n    </tr>\n    <tr>\n      <th>24</th>\n      <td>2</td>\n      <td>50</td>\n      <td>4.0</td>\n      <td>835355586</td>\n    </tr>\n    <tr>\n      <th>...</th>\n      <td>...</td>\n      <td>...</td>\n      <td>...</td>\n      <td>...</td>\n    </tr>\n    <tr>\n      <th>91</th>\n      <td>2</td>\n      <td>592</td>\n      <td>5.0</td>\n      <td>835355395</td>\n    </tr>\n    <tr>\n      <th>92</th>\n      <td>2</td>\n      <td>593</td>\n      <td>3.0</td>\n      <td>835355511</td>\n    </tr>\n    <tr>\n      <th>93</th>\n      <td>2</td>\n      <td>616</td>\n      <td>3.0</td>\n      <td>835355932</td>\n    </tr>\n    <tr>\n      <th>94</th>\n      <td>2</td>\n      <td>661</td>\n      <td>4.0</td>\n      <td>835356141</td>\n    </tr>\n    <tr>\n      <th>95</th>\n      <td>2</td>\n      <td>720</td>\n      <td>4.0</td>\n      <td>835355978</td>\n    </tr>\n  </tbody>\n</table>\n<p>76 rows × 4 columns</p>\n</div>"
     },
     "execution_count": 64,
     "metadata": {},
     "output_type": "execute_result"
    }
   ],
   "source": [
    "ratings[ratings[\"userId\"] == 2]"
   ],
   "metadata": {
    "collapsed": false
   }
  },
  {
   "cell_type": "code",
   "execution_count": 65,
   "outputs": [
    {
     "data": {
      "text/plain": "Prediction(uid=2, iid=39, r_ui=3, est=3.8589705318186622, details={'was_impossible': False})"
     },
     "execution_count": 65,
     "metadata": {},
     "output_type": "execute_result"
    }
   ],
   "source": [
    "svd.predict(2, 39, 3)"
   ],
   "metadata": {
    "collapsed": false
   }
  },
  {
   "cell_type": "code",
   "execution_count": 66,
   "outputs": [],
   "source": [
    "ratings_user2 = ratings[ratings[\"userId\"] == 2]"
   ],
   "metadata": {
    "collapsed": false
   }
  },
  {
   "cell_type": "code",
   "execution_count": 67,
   "outputs": [],
   "source": [
    "ratings_user2[\"prediction\"] = ratings_user2[\"movieId\"].apply(lambda x: svd.predict(2, x, 3)[3])\n",
    "ratings_user2[\"error\"] = np.abs(ratings_user2[\"prediction\"] - ratings_user2[\"rating\"])"
   ],
   "metadata": {
    "collapsed": false
   }
  },
  {
   "cell_type": "code",
   "execution_count": 68,
   "outputs": [
    {
     "data": {
      "text/plain": "    userId  movieId  rating  timestamp  prediction     error\n20       2       10     4.0  835355493    3.527600  0.472400\n21       2       17     5.0  835355681    3.785301  1.214699\n22       2       39     5.0  835355604    3.858971  1.141029\n23       2       47     4.0  835355552    3.683942  0.316058\n24       2       50     4.0  835355586    4.121014  0.121014\n..     ...      ...     ...        ...         ...       ...\n91       2      592     5.0  835355395    3.616869  1.383131\n92       2      593     3.0  835355511    3.826000  0.826000\n93       2      616     3.0  835355932    3.392113  0.392113\n94       2      661     4.0  835356141    3.733087  0.266913\n95       2      720     4.0  835355978    3.850424  0.149576\n\n[76 rows x 6 columns]",
      "text/html": "<div>\n<style scoped>\n    .dataframe tbody tr th:only-of-type {\n        vertical-align: middle;\n    }\n\n    .dataframe tbody tr th {\n        vertical-align: top;\n    }\n\n    .dataframe thead th {\n        text-align: right;\n    }\n</style>\n<table border=\"1\" class=\"dataframe\">\n  <thead>\n    <tr style=\"text-align: right;\">\n      <th></th>\n      <th>userId</th>\n      <th>movieId</th>\n      <th>rating</th>\n      <th>timestamp</th>\n      <th>prediction</th>\n      <th>error</th>\n    </tr>\n  </thead>\n  <tbody>\n    <tr>\n      <th>20</th>\n      <td>2</td>\n      <td>10</td>\n      <td>4.0</td>\n      <td>835355493</td>\n      <td>3.527600</td>\n      <td>0.472400</td>\n    </tr>\n    <tr>\n      <th>21</th>\n      <td>2</td>\n      <td>17</td>\n      <td>5.0</td>\n      <td>835355681</td>\n      <td>3.785301</td>\n      <td>1.214699</td>\n    </tr>\n    <tr>\n      <th>22</th>\n      <td>2</td>\n      <td>39</td>\n      <td>5.0</td>\n      <td>835355604</td>\n      <td>3.858971</td>\n      <td>1.141029</td>\n    </tr>\n    <tr>\n      <th>23</th>\n      <td>2</td>\n      <td>47</td>\n      <td>4.0</td>\n      <td>835355552</td>\n      <td>3.683942</td>\n      <td>0.316058</td>\n    </tr>\n    <tr>\n      <th>24</th>\n      <td>2</td>\n      <td>50</td>\n      <td>4.0</td>\n      <td>835355586</td>\n      <td>4.121014</td>\n      <td>0.121014</td>\n    </tr>\n    <tr>\n      <th>...</th>\n      <td>...</td>\n      <td>...</td>\n      <td>...</td>\n      <td>...</td>\n      <td>...</td>\n      <td>...</td>\n    </tr>\n    <tr>\n      <th>91</th>\n      <td>2</td>\n      <td>592</td>\n      <td>5.0</td>\n      <td>835355395</td>\n      <td>3.616869</td>\n      <td>1.383131</td>\n    </tr>\n    <tr>\n      <th>92</th>\n      <td>2</td>\n      <td>593</td>\n      <td>3.0</td>\n      <td>835355511</td>\n      <td>3.826000</td>\n      <td>0.826000</td>\n    </tr>\n    <tr>\n      <th>93</th>\n      <td>2</td>\n      <td>616</td>\n      <td>3.0</td>\n      <td>835355932</td>\n      <td>3.392113</td>\n      <td>0.392113</td>\n    </tr>\n    <tr>\n      <th>94</th>\n      <td>2</td>\n      <td>661</td>\n      <td>4.0</td>\n      <td>835356141</td>\n      <td>3.733087</td>\n      <td>0.266913</td>\n    </tr>\n    <tr>\n      <th>95</th>\n      <td>2</td>\n      <td>720</td>\n      <td>4.0</td>\n      <td>835355978</td>\n      <td>3.850424</td>\n      <td>0.149576</td>\n    </tr>\n  </tbody>\n</table>\n<p>76 rows × 6 columns</p>\n</div>"
     },
     "execution_count": 68,
     "metadata": {},
     "output_type": "execute_result"
    }
   ],
   "source": [
    "ratings_user2"
   ],
   "metadata": {
    "collapsed": false
   }
  },
  {
   "cell_type": "code",
   "execution_count": 69,
   "outputs": [
    {
     "data": {
      "text/plain": "1.1719450797136675"
     },
     "execution_count": 69,
     "metadata": {},
     "output_type": "execute_result"
    }
   ],
   "source": [
    "ratings_user2[\"error\"].quantile(0.9)"
   ],
   "metadata": {
    "collapsed": false
   }
  },
  {
   "cell_type": "code",
   "execution_count": 70,
   "outputs": [
    {
     "data": {
      "text/plain": "<Figure size 640x480 with 1 Axes>",
      "image/png": "[encoded data removed]"
     },
     "metadata": {},
     "output_type": "display_data"
    }
   ],
   "source": [
    "from scipy.stats import percentileofscore\n",
    "\n",
    "sorted = ratings_user2.sort_values(by='error')\n",
    "sorted[\"percentile\"] = sorted[\"error\"].apply(lambda x: percentileofscore(sorted[\"error\"], x))\n",
    "sorted.reset_index(inplace=True, drop=True)\n",
    "\n",
    "plt.plot(sorted[\"percentile\"], sorted['error'])\n",
    "plt.ylabel('Error (Out of 5.0)')\n",
    "plt.xlabel(\"percentile\")\n",
    "plt.title('Sorted Values')\n",
    "plt.show()"
   ],
   "metadata": {
    "collapsed": false
   }
  },
  {
   "cell_type": "code",
   "execution_count": 71,
   "outputs": [],
   "source": [
    "def convert_int(x):\n",
    "    try:\n",
    "        return int(x)\n",
    "    except:\n",
    "        return np.nan"
   ],
   "metadata": {
    "collapsed": false
   }
  },
  {
   "cell_type": "code",
   "execution_count": 72,
   "outputs": [],
   "source": [
    "id_map = pd.read_csv('data/links_small.csv')[['movieId', 'tmdbId']]\n",
    "id_map['tmdbId'] = id_map['tmdbId'].apply(convert_int)\n",
    "id_map.columns = ['movieId', 'id']\n",
    "id_map = id_map.merge(smd[['title', 'id']], on='id').set_index('title')"
   ],
   "metadata": {
    "collapsed": false
   }
  },
  {
   "cell_type": "code",
   "execution_count": 73,
   "outputs": [],
   "source": [
    "indices_map = id_map.set_index(\"id\")"
   ],
   "metadata": {
    "collapsed": false
   }
  },
  {
   "cell_type": "code",
   "execution_count": 74,
   "outputs": [],
   "source": [
    "def hybrid(userId, title):\n",
    "    idx = indices[title]\n",
    "    tmdbId = id_map.loc[title]['id']\n",
    "    movie_id = id_map.loc[title]['movieId']\n",
    "\n",
    "    s = pd.DataFrame(list(enumerate(cosine_sim[int(idx)])))\n",
    "    s = s.sort_values(by=1, ascending=False)\n",
    "    s = list(s[0].iloc[1:26])\n",
    "\n",
    "    movies = smd.iloc[s][['title', 'vote_count', 'vote_average', 'year', 'id']]\n",
    "    movies['est'] = movies['id'].apply(lambda x: svd.predict(userId, indices_map.loc[x]['movieId']).est)\n",
    "    movies = movies.sort_values('est', ascending=False)\n",
    "    return movies.head(10)"
   ],
   "metadata": {
    "collapsed": false
   }
  },
  {
   "cell_type": "code",
   "execution_count": 75,
   "outputs": [
    {
     "data": {
      "text/plain": "                           title  vote_count  vote_average  year     id  \\\n1008              The Terminator      4208.0           7.4  1984    218   \n984                        Alien      4564.0           7.9  1979    348   \n521   Terminator 2: Judgment Day      4274.0           7.7  1991    280   \n971                       Aliens      3282.0           7.7  1986    679   \n8480                     Gravity      5879.0           7.3  2013  49047   \n7283                   Star Trek      4574.0           7.4  2009  13475   \n919                    The Abyss       822.0           7.1  1989   2756   \n2915                   Moonraker       551.0           5.9  1979    698   \n8393     Star Trek Into Darkness      4479.0           7.4  2013  54138   \n2447                  Spaceballs       924.0           6.7  1987    957   \n\n           est  \n1008  3.272842  \n984   3.193130  \n521   3.093786  \n971   2.986594  \n8480  2.929681  \n7283  2.925927  \n919   2.886813  \n2915  2.861929  \n8393  2.861034  \n2447  2.855264  ",
      "text/html": "<div>\n<style scoped>\n    .dataframe tbody tr th:only-of-type {\n        vertical-align: middle;\n    }\n\n    .dataframe tbody tr th {\n        vertical-align: top;\n    }\n\n    .dataframe thead th {\n        text-align: right;\n    }\n</style>\n<table border=\"1\" class=\"dataframe\">\n  <thead>\n    <tr style=\"text-align: right;\">\n      <th></th>\n      <th>title</th>\n      <th>vote_count</th>\n      <th>vote_average</th>\n      <th>year</th>\n      <th>id</th>\n      <th>est</th>\n    </tr>\n  </thead>\n  <tbody>\n    <tr>\n      <th>1008</th>\n      <td>The Terminator</td>\n      <td>4208.0</td>\n      <td>7.4</td>\n      <td>1984</td>\n      <td>218</td>\n      <td>3.272842</td>\n    </tr>\n    <tr>\n      <th>984</th>\n      <td>Alien</td>\n      <td>4564.0</td>\n      <td>7.9</td>\n      <td>1979</td>\n      <td>348</td>\n      <td>3.193130</td>\n    </tr>\n    <tr>\n      <th>521</th>\n      <td>Terminator 2: Judgment Day</td>\n      <td>4274.0</td>\n      <td>7.7</td>\n      <td>1991</td>\n      <td>280</td>\n      <td>3.093786</td>\n    </tr>\n    <tr>\n      <th>971</th>\n      <td>Aliens</td>\n      <td>3282.0</td>\n      <td>7.7</td>\n      <td>1986</td>\n      <td>679</td>\n      <td>2.986594</td>\n    </tr>\n    <tr>\n      <th>8480</th>\n      <td>Gravity</td>\n      <td>5879.0</td>\n      <td>7.3</td>\n      <td>2013</td>\n      <td>49047</td>\n      <td>2.929681</td>\n    </tr>\n    <tr>\n      <th>7283</th>\n      <td>Star Trek</td>\n      <td>4574.0</td>\n      <td>7.4</td>\n      <td>2009</td>\n      <td>13475</td>\n      <td>2.925927</td>\n    </tr>\n    <tr>\n      <th>919</th>\n      <td>The Abyss</td>\n      <td>822.0</td>\n      <td>7.1</td>\n      <td>1989</td>\n      <td>2756</td>\n      <td>2.886813</td>\n    </tr>\n    <tr>\n      <th>2915</th>\n      <td>Moonraker</td>\n      <td>551.0</td>\n      <td>5.9</td>\n      <td>1979</td>\n      <td>698</td>\n      <td>2.861929</td>\n    </tr>\n    <tr>\n      <th>8393</th>\n      <td>Star Trek Into Darkness</td>\n      <td>4479.0</td>\n      <td>7.4</td>\n      <td>2013</td>\n      <td>54138</td>\n      <td>2.861034</td>\n    </tr>\n    <tr>\n      <th>2447</th>\n      <td>Spaceballs</td>\n      <td>924.0</td>\n      <td>6.7</td>\n      <td>1987</td>\n      <td>957</td>\n      <td>2.855264</td>\n    </tr>\n  </tbody>\n</table>\n</div>"
     },
     "execution_count": 75,
     "metadata": {},
     "output_type": "execute_result"
    }
   ],
   "source": [
    "hybrid(1, \"Avatar\")"
   ],
   "metadata": {
    "collapsed": false
   }
  },
  {
   "cell_type": "code",
   "execution_count": 76,
   "outputs": [
    {
     "data": {
      "text/plain": "                        title  vote_count  vote_average  year     id       est\n8393  Star Trek Into Darkness      4479.0           7.4  2013  54138  3.466440\n7283                Star Trek      4574.0           7.4  2009  13475  3.268468\n984                     Alien      4564.0           7.9  1979    348  3.211116\n1008           The Terminator      4208.0           7.4  1984    218  3.203817\n3785                SpaceCamp        60.0           5.8  1986  13766  3.139613\n4398          Treasure Planet       980.0           7.2  2002   9016  3.128901\n2915                Moonraker       551.0           5.9  1979    698  3.045573\n1840                     2010       290.0           6.6  1984   4437  3.030850\n3813           Mission to Mir         2.0           3.0  1997  15560  2.992361\n2447               Spaceballs       924.0           6.7  1987    957  2.971065",
      "text/html": "<div>\n<style scoped>\n    .dataframe tbody tr th:only-of-type {\n        vertical-align: middle;\n    }\n\n    .dataframe tbody tr th {\n        vertical-align: top;\n    }\n\n    .dataframe thead th {\n        text-align: right;\n    }\n</style>\n<table border=\"1\" class=\"dataframe\">\n  <thead>\n    <tr style=\"text-align: right;\">\n      <th></th>\n      <th>title</th>\n      <th>vote_count</th>\n      <th>vote_average</th>\n      <th>year</th>\n      <th>id</th>\n      <th>est</th>\n    </tr>\n  </thead>\n  <tbody>\n    <tr>\n      <th>8393</th>\n      <td>Star Trek Into Darkness</td>\n      <td>4479.0</td>\n      <td>7.4</td>\n      <td>2013</td>\n      <td>54138</td>\n      <td>3.466440</td>\n    </tr>\n    <tr>\n      <th>7283</th>\n      <td>Star Trek</td>\n      <td>4574.0</td>\n      <td>7.4</td>\n      <td>2009</td>\n      <td>13475</td>\n      <td>3.268468</td>\n    </tr>\n    <tr>\n      <th>984</th>\n      <td>Alien</td>\n      <td>4564.0</td>\n      <td>7.9</td>\n      <td>1979</td>\n      <td>348</td>\n      <td>3.211116</td>\n    </tr>\n    <tr>\n      <th>1008</th>\n      <td>The Terminator</td>\n      <td>4208.0</td>\n      <td>7.4</td>\n      <td>1984</td>\n      <td>218</td>\n      <td>3.203817</td>\n    </tr>\n    <tr>\n      <th>3785</th>\n      <td>SpaceCamp</td>\n      <td>60.0</td>\n      <td>5.8</td>\n      <td>1986</td>\n      <td>13766</td>\n      <td>3.139613</td>\n    </tr>\n    <tr>\n      <th>4398</th>\n      <td>Treasure Planet</td>\n      <td>980.0</td>\n      <td>7.2</td>\n      <td>2002</td>\n      <td>9016</td>\n      <td>3.128901</td>\n    </tr>\n    <tr>\n      <th>2915</th>\n      <td>Moonraker</td>\n      <td>551.0</td>\n      <td>5.9</td>\n      <td>1979</td>\n      <td>698</td>\n      <td>3.045573</td>\n    </tr>\n    <tr>\n      <th>1840</th>\n      <td>2010</td>\n      <td>290.0</td>\n      <td>6.6</td>\n      <td>1984</td>\n      <td>4437</td>\n      <td>3.030850</td>\n    </tr>\n    <tr>\n      <th>3813</th>\n      <td>Mission to Mir</td>\n      <td>2.0</td>\n      <td>3.0</td>\n      <td>1997</td>\n      <td>15560</td>\n      <td>2.992361</td>\n    </tr>\n    <tr>\n      <th>2447</th>\n      <td>Spaceballs</td>\n      <td>924.0</td>\n      <td>6.7</td>\n      <td>1987</td>\n      <td>957</td>\n      <td>2.971065</td>\n    </tr>\n  </tbody>\n</table>\n</div>"
     },
     "execution_count": 76,
     "metadata": {},
     "output_type": "execute_result"
    }
   ],
   "source": [
    "hybrid(500, \"Avatar\")"
   ],
   "metadata": {
    "collapsed": false
   }
  }
 ],
 "metadata": {
  "kernelspec": {
   "display_name": "Python 3",
   "language": "python",
   "name": "python3"
  },
  "language_info": {
   "codemirror_mode": {
    "name": "ipython",
    "version": 2
   },
   "file_extension": ".py",
   "mimetype": "text/x-python",
   "name": "python",
   "nbconvert_exporter": "python",
   "pygments_lexer": "ipython2",
   "version": "2.7.6"
  }
 },
 "nbformat": 4,
 "nbformat_minor": 0
}
